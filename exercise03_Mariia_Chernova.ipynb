{
 "cells": [
  {
   "cell_type": "markdown",
   "metadata": {},
   "source": [
    "### Exercise 3: Binary classification"
   ]
  },
  {
   "cell_type": "markdown",
   "metadata": {},
   "source": [
    "Name and student id: Mariia Chernova 1908135"
   ]
  },
  {
   "cell_type": "code",
   "execution_count": 28,
   "metadata": {},
   "outputs": [],
   "source": [
    "import statistics\n",
    "import numpy as np\n",
    "from numpy import genfromtxt\n",
    "import matplotlib.pyplot as plt\n",
    "from sklearn.utils.extmath import cartesian\n",
    "from sklearn import preprocessing\n",
    "from sklearn.model_selection import train_test_split\n",
    "from sklearn.svm import SVC\n",
    "from sklearn.model_selection import KFold"
   ]
  },
  {
   "cell_type": "markdown",
   "metadata": {},
   "source": [
    "Read csv data from file 'exercise03.csv' into variable data. Data has three columns; two x-values, and y value (-1, 1) on each row."
   ]
  },
  {
   "cell_type": "code",
   "execution_count": 29,
   "metadata": {
    "deletable": false,
    "nbgrader": {
     "cell_type": "code",
     "checksum": "dd33f225fc43cc94190e2ac94a715727",
     "grade": false,
     "grade_id": "cell-d2735e4dbc032097",
     "locked": false,
     "schema_version": 3,
     "solution": true,
     "task": false
    }
   },
   "outputs": [],
   "source": [
    "data = genfromtxt('exercise03.csv', delimiter=',', skip_header=1)\n",
    "# raise NotImplementedError()"
   ]
  },
  {
   "cell_type": "code",
   "execution_count": 30,
   "metadata": {
    "deletable": false,
    "editable": false,
    "nbgrader": {
     "cell_type": "code",
     "checksum": "fb74f5bd8dc6ab5e55971cd6370983e9",
     "grade": true,
     "grade_id": "cell-7f12b4765519e8dd",
     "locked": true,
     "points": 2,
     "schema_version": 3,
     "solution": false,
     "task": false
    }
   },
   "outputs": [],
   "source": [
    "assert(data.shape[1] == 3)"
   ]
  },
  {
   "cell_type": "markdown",
   "metadata": {},
   "source": [
    "Split data into x (features) and y (labels)."
   ]
  },
  {
   "cell_type": "code",
   "execution_count": 31,
   "metadata": {
    "deletable": false,
    "nbgrader": {
     "cell_type": "code",
     "checksum": "efed20daed081c93834c7a510f3a4847",
     "grade": false,
     "grade_id": "cell-b39262d7620739ec",
     "locked": false,
     "schema_version": 3,
     "solution": true,
     "task": false
    }
   },
   "outputs": [],
   "source": [
    "x = data[:,0:2]  \n",
    "y = data[:,2]\n",
    "# raise NotImplementedError()"
   ]
  },
  {
   "cell_type": "code",
   "execution_count": 32,
   "metadata": {
    "deletable": false,
    "editable": false,
    "nbgrader": {
     "cell_type": "code",
     "checksum": "729051b78ebce446babeb2c90f12b129",
     "grade": true,
     "grade_id": "cell-5b86b49d577ffb3c",
     "locked": true,
     "points": 2,
     "schema_version": 3,
     "solution": false,
     "task": false
    }
   },
   "outputs": [],
   "source": [
    "assert(x.shape[1] == 2)"
   ]
  },
  {
   "cell_type": "code",
   "execution_count": 33,
   "metadata": {},
   "outputs": [
    {
     "data": {
      "image/png": "[encoded data removed]",
      "text/plain": [
       "<Figure size 432x288 with 1 Axes>"
      ]
     },
     "metadata": {
      "needs_background": "light"
     },
     "output_type": "display_data"
    }
   ],
   "source": [
    "plt.plot(x[y==-1][:,0], x[y==-1][:,1], 'ro')\n",
    "plt.plot(x[y==1][:,0], x[y==1][:,1], 'bo')\n",
    "plt.show()"
   ]
  },
  {
   "cell_type": "markdown",
   "metadata": {},
   "source": [
    "Is the data linearly separable, ie. can red and blue dots be (almost) separated by a line? Write your answer in the next cell."
   ]
  },
  {
   "cell_type": "code",
   "execution_count": 34,
   "metadata": {
    "deletable": false,
    "nbgrader": {
     "cell_type": "code",
     "checksum": "71e65a5c0a263005b8efe579065efc58",
     "grade": true,
     "grade_id": "cell-a4ff617650931f38",
     "locked": false,
     "points": 2,
     "schema_version": 3,
     "solution": true,
     "task": false
    }
   },
   "outputs": [],
   "source": [
    "# assing value \"Yes\" or \"No\" to variable answer.\n",
    "answer = 'No'\n",
    "# YOUR CODE HERE\n",
    "# raise NotImplementedError()"
   ]
  },
  {
   "cell_type": "markdown",
   "metadata": {},
   "source": [
    "Scale features using StandardScaler. Assign scaled feature data to variable scaled_x."
   ]
  },
  {
   "cell_type": "code",
   "execution_count": 35,
   "metadata": {
    "deletable": false,
    "nbgrader": {
     "cell_type": "code",
     "checksum": "893f5209b2b4bf1924095f982f4c22e3",
     "grade": false,
     "grade_id": "cell-089bf7e76cefe1d3",
     "locked": false,
     "schema_version": 3,
     "solution": true,
     "task": false
    }
   },
   "outputs": [],
   "source": [
    "scaler = preprocessing.StandardScaler().fit(x)\n",
    "scaled_x = scaler.transform(x)\n",
    "# raise NotImplementedErraor()"
   ]
  },
  {
   "cell_type": "code",
   "execution_count": 36,
   "metadata": {
    "deletable": false,
    "editable": false,
    "nbgrader": {
     "cell_type": "code",
     "checksum": "49af20bfde01478cfcc3bce11394a58c",
     "grade": true,
     "grade_id": "cell-b48cb86fb5e0cd9c",
     "locked": true,
     "points": 2,
     "schema_version": 3,
     "solution": false,
     "task": false
    }
   },
   "outputs": [],
   "source": [
    "np.testing.assert_almost_equal(scaled_x.mean(axis=0),0.0, decimal=3)"
   ]
  },
  {
   "cell_type": "markdown",
   "metadata": {},
   "source": [
    "#### SVC with RBF kernel\n",
    "\n",
    "To estimate a good value for gamma parameter, we'll loop over a list of gammas (numpy array gammas in cell below). For each gamma value we'll use KFold() object to perform K-Fold validation - otherwise metrics for different gammas would have too much variance and deciding on the best one would be hard. We'll use the model object score() method to compute score for training and test sets separately and store them in numpy arrays. After all folds for a gamma value have been scored, we'll average the scores. Finally, the gamma with highest testing score is selected. To get more intuition, we'll also plot the values in gamma/score diagram.\n",
    "\n",
    "Tasks to do\n",
    "\n",
    "1) Assign reasonable values to gamma array to find the best gamma value. Note that you can experiment with this after you have completed the other steps\n",
    "\n",
    "2) Use train_index and test_index to access your whole data set so as to get training and test data sets for one round of training and evaluation\n",
    "\n",
    "3) Create a model object and train it. Note that re-using model object (repeadetly calling fit()) will continue training on top of the earlier result.\n",
    "\n",
    "4) Use the model to get training and test scores"
   ]
  },
  {
   "cell_type": "code",
   "execution_count": 44,
   "metadata": {
    "deletable": false,
    "nbgrader": {
     "cell_type": "code",
     "checksum": "6b11d9f4f14361b018d8800e864dfdd5",
     "grade": false,
     "grade_id": "cell-1aac4f1195c16809",
     "locked": false,
     "schema_version": 3,
     "solution": true,
     "task": false
    }
   },
   "outputs": [
    {
     "data": {
      "image/png": "[encoded data removed]",
      "text/plain": [
       "<Figure size 432x288 with 1 Axes>"
      ]
     },
     "metadata": {
      "needs_background": "light"
     },
     "output_type": "display_data"
    },
    {
     "name": "stdout",
     "output_type": "stream",
     "text": [
      "Gamma with highest test score 0.5\n"
     ]
    }
   ],
   "source": [
    "gammas = np.arange(0.05, 1, 0.05)\n",
    "# gammas = np.array([0.3, 0.5])\n",
    "# gammas = [0.01, 0.05, 0.1 , 0.15, 0.2 , 0.25, 0.3 , 0.35, 0.4 , 0.45, 0.5 ,\n",
    "#        0.55, 0.6 , 0.65, 0.7 , 0.75, 0.8 , 0.85, 0.9 , 0.95]\n",
    "# YOUR CODE HERE\n",
    "# raise NotImplementedError()\n",
    "avtrainscores = np.empty_like(gammas)\n",
    "avtestscores = np.empty_like(gammas)\n",
    "\n",
    "for idx, gamma in enumerate(gammas):\n",
    "\n",
    "    kf = KFold(n_splits = 4)\n",
    "    train_scores = []\n",
    "    test_scores = []\n",
    "    \n",
    "    m = []\n",
    "    for i in range(4):\n",
    "        m.append(SVC(gamma=gamma))\n",
    "\n",
    "    for train_index, test_index in kf.split(scaled_x):\n",
    "        # 2) get x_train, x_test and y_train, y_test by the indices\n",
    "        x_train = scaled_x[train_index, :]\n",
    "        x_test = scaled_x[test_index, :]\n",
    "        y_train = y[train_index]\n",
    "        y_test = y[test_index]\n",
    "        # YOUR CODE HERE\n",
    "#         raise NotImplementedError()\n",
    "        \n",
    "        # 3) create an SVC() model object with the gamma parameter specified and fit it    \n",
    "        if test_index[0] == 0:\n",
    "            ix = 0\n",
    "        elif test_index[1] == 14:\n",
    "            ix = 1\n",
    "        elif test_index[2] == 27:\n",
    "            ix = 2\n",
    "        elif test_index[3] == 40:\n",
    "            ix = 3\n",
    "#         model = SVC(gamma=gamma)\n",
    "        m[ix].fit(x_train, y_train)\n",
    "        # YOUR CODE HERE\n",
    "#         raise NotImplementedError()\n",
    "        \n",
    "        # 4) Assign scores to train_score and test_score\n",
    "        train_score = m[ix].score(x_train, y_train)\n",
    "        test_score = m[ix].score(x_test, y_test)\n",
    "\n",
    "        # YOUR CODE HERE\n",
    "#         raise NotImplementedError()\n",
    "        train_scores.append(train_score)\n",
    "        test_scores.append(test_score)\n",
    "    \n",
    "    # averages for current gamma\n",
    "    avtrainscores[idx] = statistics.mean(train_scores)\n",
    "    avtestscores[idx] = statistics.mean(test_scores)\n",
    "    \n",
    "plt.plot(gammas, avtrainscores, 'r', label=\"Average training score\")\n",
    "plt.plot(gammas, avtestscores, 'b')\n",
    "plt.show()\n",
    "best_gamma = gammas[np.argmax(avtestscores)]\n",
    "print(\"Gamma with highest test score\", best_gamma)"
   ]
  },
  {
   "cell_type": "code",
   "execution_count": 45,
   "metadata": {
    "deletable": false,
    "editable": false,
    "nbgrader": {
     "cell_type": "code",
     "checksum": "17f3dcefd45a0555ece2c35948ebb2ee",
     "grade": true,
     "grade_id": "cell-a2d3f88adfd303a2",
     "locked": true,
     "points": 12,
     "schema_version": 3,
     "solution": false,
     "task": false
    }
   },
   "outputs": [],
   "source": [
    "np.testing.assert_almost_equal(best_gamma, 0.5, decimal=1)"
   ]
  },
  {
   "cell_type": "markdown",
   "metadata": {},
   "source": [
    "Let's plot the decision area. Try out different gammas to get more intuition on how it affects the decision boundary."
   ]
  },
  {
   "cell_type": "code",
   "execution_count": 46,
   "metadata": {},
   "outputs": [
    {
     "data": {
      "image/png": "[encoded data removed]",
      "text/plain": [
       "<Figure size 432x288 with 1 Axes>"
      ]
     },
     "metadata": {
      "needs_background": "light"
     },
     "output_type": "display_data"
    }
   ],
   "source": [
    "model = SVC(gamma=best_gamma)\n",
    "model.fit(x_train,y_train)\n",
    "\n",
    "x1s = np.linspace(-2.5,2.5,y.shape[0])\n",
    "x2s = np.linspace(-2.5,2.5,y.shape[0])\n",
    "xs = cartesian((x1s,x2s))\n",
    "\n",
    "cfs = model.predict(xs)\n",
    "\n",
    "plt.plot(scaled_x[y == -1][:,0], scaled_x[y == -1][:,1], 'ro')\n",
    "plt.plot(scaled_x[y == 1][:,0], scaled_x[y == 1][:,1], 'bo')\n",
    "plt.plot(xs[cfs==-1][:,0],xs[cfs==-1][:,1],'r+',alpha=0.3)\n",
    "plt.plot(xs[cfs==1][:,0],xs[cfs==1][:,1],'b+',alpha=0.3)\n",
    "plt.show()"
   ]
  }
 ],
 "metadata": {
  "kernelspec": {
   "display_name": "Python 3",
   "language": "python",
   "name": "python3"
  },
  "language_info": {
   "codemirror_mode": {
    "name": "ipython",
    "version": 3
   },
   "file_extension": ".py",
   "mimetype": "text/x-python",
   "name": "python",
   "nbconvert_exporter": "python",
   "pygments_lexer": "ipython3",
   "version": "3.7.3"
  }
 },
 "nbformat": 4,
 "nbformat_minor": 2
}
