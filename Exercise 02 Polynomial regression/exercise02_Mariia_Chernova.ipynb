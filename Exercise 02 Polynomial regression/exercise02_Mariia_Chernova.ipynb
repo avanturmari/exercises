{
 "cells": [
  {
   "cell_type": "markdown",
   "metadata": {},
   "source": [
    "# Exercise 2: Polynomial regression\n",
    "\n",
    "Please write here your name and student id: Mariia Chernova 1908135"
   ]
  },
  {
   "cell_type": "markdown",
   "metadata": {},
   "source": [
    "File dists.csv contains data where each row has data about an experiment where car is stopped from a given speed. Data in the columns is car speed and stopping distance. Target is to create a model with which the stopping distance can be predicted by the speed and the indicator."
   ]
  },
  {
   "cell_type": "code",
   "execution_count": 12,
   "metadata": {},
   "outputs": [],
   "source": [
    "import numpy as np\n",
    "import matplotlib.pyplot as plt\n",
    "from sklearn import preprocessing\n",
    "from sklearn.preprocessing import PolynomialFeatures\n",
    "from sklearn import linear_model\n",
    "from sklearn.model_selection import train_test_split\n",
    "from numpy import genfromtxt"
   ]
  },
  {
   "cell_type": "markdown",
   "metadata": {},
   "source": [
    "Read the data from file 'dists.csv' to numpy array dist_data"
   ]
  },
  {
   "cell_type": "code",
   "execution_count": 13,
   "metadata": {
    "deletable": false,
    "nbgrader": {
     "cell_type": "code",
     "checksum": "115bac5f6e6c9b6b7d2ce8e92d3d9622",
     "grade": false,
     "grade_id": "cell-588af574d4385d16",
     "locked": false,
     "schema_version": 3,
     "solution": true,
     "task": false
    }
   },
   "outputs": [
    {
     "name": "stdout",
     "output_type": "stream",
     "text": [
      "(20, 2)\n"
     ]
    }
   ],
   "source": [
    "dist_data = genfromtxt('dists.csv', delimiter=',', skip_header=1)\n",
    "#raise NotImplementedError()\n",
    "print(dist_data.shape)"
   ]
  },
  {
   "cell_type": "code",
   "execution_count": 14,
   "metadata": {
    "deletable": false,
    "editable": false,
    "nbgrader": {
     "cell_type": "code",
     "checksum": "f3a0a4532c6518c9d4a2f56bc8c9082b",
     "grade": true,
     "grade_id": "cell-c9d1a4227f9aebc5",
     "locked": true,
     "points": 1,
     "schema_version": 3,
     "solution": false,
     "task": false
    }
   },
   "outputs": [],
   "source": [
    "assert(dist_data.shape[0] == 20)\n",
    "assert(dist_data.shape[1] == 2)"
   ]
  },
  {
   "cell_type": "markdown",
   "metadata": {},
   "source": [
    "Pick to variable x the independent variables and to y the dependent one."
   ]
  },
  {
   "cell_type": "code",
   "execution_count": 29,
   "metadata": {
    "deletable": false,
    "nbgrader": {
     "cell_type": "code",
     "checksum": "655622607ff2fe68e63eb9a07302e922",
     "grade": false,
     "grade_id": "cell-377484b0e2b98c92",
     "locked": false,
     "schema_version": 3,
     "solution": true,
     "task": false
    }
   },
   "outputs": [],
   "source": [
    "x = dist_data[:,0:1]  \n",
    "y = dist_data[:,1]\n",
    "# YOUR CODE HERE\n",
    "# raise NotImplementedError()"
   ]
  },
  {
   "cell_type": "code",
   "execution_count": 30,
   "metadata": {
    "deletable": false,
    "editable": false,
    "nbgrader": {
     "cell_type": "code",
     "checksum": "b308fbecf3f3f3fbd6e6cfe711b83783",
     "grade": true,
     "grade_id": "cell-5b14b3e213457fe7",
     "locked": true,
     "points": 1,
     "schema_version": 3,
     "solution": false,
     "task": false
    }
   },
   "outputs": [],
   "source": [
    "assert(x.shape == (20,1))\n",
    "assert(y.shape[0] == 20)"
   ]
  },
  {
   "cell_type": "markdown",
   "metadata": {},
   "source": [
    "Create a scatterplot of the data with speed on x axis, distance on y axis."
   ]
  },
  {
   "cell_type": "code",
   "execution_count": 31,
   "metadata": {},
   "outputs": [
    {
     "data": {
      "image/png": "[encoded data removed]",
      "text/plain": [
       "<Figure size 432x288 with 1 Axes>"
      ]
     },
     "metadata": {
      "needs_background": "light"
     },
     "output_type": "display_data"
    }
   ],
   "source": [
    "plt.plot(x, y, 'ro')\n",
    "plt.show()"
   ]
  },
  {
   "cell_type": "markdown",
   "metadata": {},
   "source": [
    "Scale the data (although not mandatory in this 1-dimensional case)"
   ]
  },
  {
   "cell_type": "code",
   "execution_count": 33,
   "metadata": {
    "deletable": false,
    "nbgrader": {
     "cell_type": "code",
     "checksum": "b2f57e2220ab902291962a3032c07f20",
     "grade": false,
     "grade_id": "cell-6bc1dfc7321b6398",
     "locked": false,
     "schema_version": 3,
     "solution": true,
     "task": false
    }
   },
   "outputs": [
    {
     "data": {
      "text/plain": [
       "array([[-0.49944323],\n",
       "       [-0.20708622],\n",
       "       [-1.42524043],\n",
       "       [ 0.08527079],\n",
       "       [-0.06090771],\n",
       "       [-0.93797874],\n",
       "       [-0.98670491],\n",
       "       [ 0.18272313],\n",
       "       [-1.27906192],\n",
       "       [-0.88925258],\n",
       "       [-0.40199089],\n",
       "       [ 1.44960351],\n",
       "       [ 1.44960351],\n",
       "       [ 1.64450819],\n",
       "       [ 0.86488949],\n",
       "       [ 0.37762781],\n",
       "       [-0.59689556],\n",
       "       [ 1.30342501],\n",
       "       [-1.32778809],\n",
       "       [ 1.25469884]])"
      ]
     },
     "execution_count": 33,
     "metadata": {},
     "output_type": "execute_result"
    }
   ],
   "source": [
    "scaler = preprocessing.StandardScaler().fit(x)\n",
    "scaled_x = scaler.transform(x)\n",
    "scaled_x\n",
    "\n",
    "#raise NotImplementedError()"
   ]
  },
  {
   "cell_type": "code",
   "execution_count": 34,
   "metadata": {
    "deletable": false,
    "editable": false,
    "nbgrader": {
     "cell_type": "code",
     "checksum": "a5aaaa64927654d1fdb32cbf5cce9c38",
     "grade": true,
     "grade_id": "cell-c6645903431f9d8b",
     "locked": true,
     "points": 2,
     "schema_version": 3,
     "solution": false,
     "task": false
    }
   },
   "outputs": [],
   "source": [
    "eps = 0.001\n",
    "assert(np.sum(scaled_x.mean(axis=0)) < eps)\n",
    "assert(np.sum(scaled_x.std(axis=0)) < 1 + eps)"
   ]
  },
  {
   "cell_type": "markdown",
   "metadata": {},
   "source": [
    "Split the data into training and test sets, with 30% in test set."
   ]
  },
  {
   "cell_type": "code",
   "execution_count": 35,
   "metadata": {
    "deletable": false,
    "nbgrader": {
     "cell_type": "code",
     "checksum": "d6b22603315c89a8ee6d00f0ab8d454b",
     "grade": false,
     "grade_id": "cell-ecbf117fb19f7ac6",
     "locked": false,
     "schema_version": 3,
     "solution": true,
     "task": false
    }
   },
   "outputs": [],
   "source": [
    "np.random.seed(42) # Please do not remove\n",
    "x_train, x_test, y_train, y_test = train_test_split(scaled_x, y, test_size=0.3)\n",
    "#raise NotImplementedError()"
   ]
  },
  {
   "cell_type": "code",
   "execution_count": 36,
   "metadata": {
    "deletable": false,
    "editable": false,
    "nbgrader": {
     "cell_type": "code",
     "checksum": "6c3ca6de8eb98133a04587fa1e99668d",
     "grade": true,
     "grade_id": "cell-24a998afa0ad52ee",
     "locked": true,
     "points": 2,
     "schema_version": 3,
     "solution": false,
     "task": false
    }
   },
   "outputs": [],
   "source": [
    "assert(x_train.shape == (14,1))\n",
    "assert(x_test.shape == (6,1))"
   ]
  },
  {
   "cell_type": "markdown",
   "metadata": {},
   "source": [
    "Create polynomial features for 10th degree polynomial model."
   ]
  },
  {
   "cell_type": "code",
   "execution_count": 38,
   "metadata": {
    "deletable": false,
    "nbgrader": {
     "cell_type": "code",
     "checksum": "d3fc80034f82d322b249b75b4b17f638",
     "grade": false,
     "grade_id": "cell-68a7db6d0aa7b112",
     "locked": false,
     "schema_version": 3,
     "solution": true,
     "task": false
    }
   },
   "outputs": [],
   "source": [
    "d = 10\n",
    "poly = PolynomialFeatures(d)\n",
    "x_train_poly = poly.fit_transform(x_train.reshape(-1,1))\n",
    "x_test_poly = poly.fit_transform(x_test.reshape(-1,1))\n",
    "\n",
    "#raise NotImplementedError()"
   ]
  },
  {
   "cell_type": "code",
   "execution_count": 39,
   "metadata": {
    "deletable": false,
    "editable": false,
    "nbgrader": {
     "cell_type": "code",
     "checksum": "8b434bf8692391e073b7df0c012a9feb",
     "grade": true,
     "grade_id": "cell-a9788c2296dfafc8",
     "locked": true,
     "points": 3,
     "schema_version": 3,
     "solution": false,
     "task": false
    }
   },
   "outputs": [],
   "source": [
    "assert(x_train_poly.shape == (14,11))\n",
    "assert(x_test_poly.shape == (6,11))"
   ]
  },
  {
   "cell_type": "code",
   "execution_count": 47,
   "metadata": {
    "deletable": false,
    "nbgrader": {
     "cell_type": "code",
     "checksum": "e9d693e8f1979acfe4ea7ab7556c563f",
     "grade": false,
     "grade_id": "cell-95b7bbc6da2b6c33",
     "locked": false,
     "schema_version": 3,
     "solution": true,
     "task": false
    }
   },
   "outputs": [
    {
     "data": {
      "text/plain": [
       "LinearRegression(copy_X=True, fit_intercept=True, n_jobs=None, normalize=False)"
      ]
     },
     "execution_count": 47,
     "metadata": {},
     "output_type": "execute_result"
    }
   ],
   "source": [
    "model = linear_model.LinearRegression()\n",
    "model.fit(x_train_poly, y_train)\n",
    "#raise NotImplementedError()"
   ]
  },
  {
   "cell_type": "code",
   "execution_count": 48,
   "metadata": {
    "deletable": false,
    "editable": false,
    "nbgrader": {
     "cell_type": "code",
     "checksum": "99a75a9bdff95a39a8e392bc4aba0a44",
     "grade": true,
     "grade_id": "cell-ddedcd2a83ef7825",
     "locked": true,
     "points": 4,
     "schema_version": 3,
     "solution": false,
     "task": false
    }
   },
   "outputs": [],
   "source": [
    "assert(np.sum(model.coef_) - 131.58 < eps)"
   ]
  },
  {
   "cell_type": "code",
   "execution_count": 49,
   "metadata": {
    "deletable": false,
    "nbgrader": {
     "cell_type": "code",
     "checksum": "41d52c2782f0198957d678c36e570114",
     "grade": false,
     "grade_id": "cell-06002890a21dda26",
     "locked": false,
     "schema_version": 3,
     "solution": true,
     "task": false
    }
   },
   "outputs": [
    {
     "name": "stdout",
     "output_type": "stream",
     "text": [
      "0.9962023409363848 0.9378221726965915\n"
     ]
    }
   ],
   "source": [
    "plain_poly_r2_train = model.score(x_train_poly, y_train)\n",
    "plain_poly_r2_test = model.score(x_test_poly, y_test)\n",
    "#raise NotImplementedError()\n",
    "print(plain_poly_r2_train, plain_poly_r2_test)"
   ]
  },
  {
   "cell_type": "code",
   "execution_count": 50,
   "metadata": {
    "deletable": false,
    "editable": false,
    "nbgrader": {
     "cell_type": "code",
     "checksum": "bd4807f2944db2fd33a03bc4cd3e04df",
     "grade": true,
     "grade_id": "cell-2d69af3561943d16",
     "locked": true,
     "points": 3,
     "schema_version": 3,
     "solution": false,
     "task": false
    }
   },
   "outputs": [],
   "source": [
    "assert(plain_poly_r2_train - 0.9962 < eps)\n",
    "assert(plain_poly_r2_test - 0.9378 < eps)"
   ]
  },
  {
   "cell_type": "code",
   "execution_count": 54,
   "metadata": {
    "deletable": false,
    "nbgrader": {
     "cell_type": "code",
     "checksum": "d201318961852e12c77387838ae86ca8",
     "grade": false,
     "grade_id": "cell-4d9bb52e59b05a09",
     "locked": false,
     "schema_version": 3,
     "solution": true,
     "task": false
    }
   },
   "outputs": [],
   "source": [
    "regmodel = linear_model.Ridge(alpha=4.0).fit(x_train_poly, y_train)\n",
    "\n",
    "reg_poly_r2_train = regmodel.score(x_train_poly, y_train)\n",
    "reg_poly_r2_test = regmodel.score(x_test_poly, y_test)\n",
    "\n",
    "# YOUR CODE HERE\n",
    "# raise NotImplementedError()"
   ]
  },
  {
   "cell_type": "code",
   "execution_count": 55,
   "metadata": {
    "deletable": false,
    "editable": false,
    "nbgrader": {
     "cell_type": "code",
     "checksum": "39683ebdeaf401ca61fe82a2bd2f9f3a",
     "grade": true,
     "grade_id": "cell-95c15df8fe7a27ef",
     "locked": true,
     "points": 4,
     "schema_version": 3,
     "solution": false,
     "task": false
    }
   },
   "outputs": [],
   "source": [
    "assert(np.sum(regmodel.coef_) - 116.37 < eps)\n",
    "assert(reg_poly_r2_train - 0.984 < eps)\n",
    "assert(reg_poly_r2_test - 0.9827 < eps)"
   ]
  },
  {
   "cell_type": "code",
   "execution_count": 56,
   "metadata": {},
   "outputs": [
    {
     "data": {
      "image/png": "[encoded data removed]",
      "text/plain": [
       "<Figure size 432x288 with 1 Axes>"
      ]
     },
     "metadata": {
      "needs_background": "light"
     },
     "output_type": "display_data"
    }
   ],
   "source": [
    "xs = np.linspace(x.min(),x.max()) # x values for plotting the model line\n",
    "xs_poly = poly.fit_transform(scaler.transform(xs.reshape(-1,1)))\n",
    "\n",
    "ys = model.predict(xs_poly) # get y values from predict()\n",
    "regys = regmodel.predict(xs_poly) # get y values from predict()\n",
    "\n",
    "plt.plot(x, y, 'ro')\n",
    "plt.plot(xs, ys, 'b')\n",
    "plt.plot(xs, regys, 'g')\n",
    "plt.show()"
   ]
  }
 ],
 "metadata": {
  "kernelspec": {
   "display_name": "Python 3",
   "language": "python",
   "name": "python3"
  },
  "language_info": {
   "codemirror_mode": {
    "name": "ipython",
    "version": 3
   },
   "file_extension": ".py",
   "mimetype": "text/x-python",
   "name": "python",
   "nbconvert_exporter": "python",
   "pygments_lexer": "ipython3",
   "version": "3.7.3"
  }
 },
 "nbformat": 4,
 "nbformat_minor": 2
}
