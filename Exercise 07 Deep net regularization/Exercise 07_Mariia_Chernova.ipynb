{
 "cells": [
  {
   "cell_type": "markdown",
   "metadata": {},
   "source": [
    "# Assignment: Exercise 07: Deep net regularization"
   ]
  },
  {
   "cell_type": "markdown",
   "metadata": {},
   "source": [
    "Take from session04.ipynb the example where a network is trained on a segment of sin function. Experiment overfit reduction with:\n",
    "* Regularization added to layer(s)\n",
    "* Dropout layers\n",
    "\n",
    "Find parameters for both methods to optimize your model behavior. Return your solution as a notebook that contains the needed code, explanations, graphs, and YOUR NAME and student id."
   ]
  },
  {
   "cell_type": "code",
   "execution_count": 84,
   "metadata": {
    "ExecuteTime": {
     "end_time": "2020-03-09T20:25:14.441673Z",
     "start_time": "2020-03-09T20:25:14.412178Z"
    }
   },
   "outputs": [],
   "source": [
    "import numpy as np\n",
    "import keras\n",
    "from sklearn.model_selection import train_test_split\n",
    "from sklearn.metrics import r2_score\n",
    "import matplotlib.pyplot as plt\n",
    "from keras.layers.core import Dropout\n",
    "from keras import regularizers\n",
    "\n",
    "def evaluate_r2_score(model, x_train, y_train, x_test, y_test):\n",
    "    y_pred_train = model.predict(x_train)\n",
    "    y_pred_test = model.predict(x_test)\n",
    "    return r2_score(y_train, y_pred_train), r2_score(y_test, y_pred_test)\n",
    "    \n",
    "def print_r2_score(model, x_train, y_train, x_test, y_test):\n",
    "    r2_train, r2_test = evaluate_r2_score(model, x_train, y_train, x_test, y_test)\n",
    "    print(\"R2 score (train)\", r2_train)\n",
    "    print(\"R2 score (test)\", r2_test)\n",
    "    \n",
    "def plot_data_prediction(x_train, y_train, x_test, y_test):\n",
    "    xs = np.linspace(0, np.pi)\n",
    "    plt.plot(x_train, y_train,'bx')\n",
    "    plt.plot(x_test, y_test,'go')\n",
    "    plt.plot(xs, model.predict(xs),'r')\n",
    "    plt.legend([\"training data\", \"testing data\", \"nn model\"])\n",
    "    plt.show()"
   ]
  },
  {
   "cell_type": "code",
   "execution_count": 85,
   "metadata": {
    "ExecuteTime": {
     "end_time": "2020-03-09T20:25:15.098078Z",
     "start_time": "2020-03-09T20:25:15.020692Z"
    }
   },
   "outputs": [],
   "source": [
    "# models\n",
    "EPOCHS = 5000\n",
    "def nn_default(x_train, y_train):\n",
    "    model = keras.models.Sequential()\n",
    "    model.add(keras.layers.Dense(100, input_shape=(1,), activation='tanh'))\n",
    "    model.add(keras.layers.Dense(100, activation='tanh'))\n",
    "    model.add(keras.layers.Dense(100, activation='tanh'))\n",
    "    model.add(keras.layers.Dense(1))\n",
    "    opt=keras.optimizers.Adam(lr=0.01)\n",
    "    model.compile(optimizer=opt, loss='mse')\n",
    "    model.fit(x_train, y_train, epochs=EPOCHS, batch_size=16, verbose=0)\n",
    "    return model\n",
    "\n",
    "def nn_regularization(x_train, y_train, regularization_lambda):\n",
    "    model = keras.models.Sequential()\n",
    "    model.add(keras.layers.Dense(100, input_shape=(1,), activation='tanh', kernel_regularizer=regularizers.l2(regularization_lambda)))\n",
    "    model.add(keras.layers.Dense(100, activation='tanh', kernel_regularizer=regularizers.l2(regularization_lambda)))\n",
    "    model.add(keras.layers.Dense(100, activation='tanh', kernel_regularizer=regularizers.l2(regularization_lambda)))\n",
    "    model.add(keras.layers.Dense(1))\n",
    "    opt=keras.optimizers.Adam(lr=0.01)\n",
    "    model.compile(optimizer=opt, loss='mse')\n",
    "    model.fit(x_train, y_train, epochs=EPOCHS, batch_size=16, verbose=0)\n",
    "    return model\n",
    "\n",
    "def nn_dropout(x_train, y_train, dropout_rate):\n",
    "    model = keras.models.Sequential()\n",
    "    model.add(keras.layers.Dense(100, input_shape=(1,), activation='tanh'))\n",
    "    model.add(Dropout(dropout_rate))\n",
    "    model.add(keras.layers.Dense(100, activation='tanh'))\n",
    "    model.add(Dropout(dropout_rate))\n",
    "    model.add(keras.layers.Dense(100, activation='tanh'))\n",
    "    model.add(Dropout(dropout_rate))\n",
    "    model.add(keras.layers.Dense(1))\n",
    "    opt=keras.optimizers.Adam(lr=0.01)\n",
    "    model.compile(optimizer=opt, loss='mse')\n",
    "    model.fit(x_train, y_train, epochs=EPOCHS, batch_size=16, verbose=0)\n",
    "    return model"
   ]
  },
  {
   "cell_type": "markdown",
   "metadata": {},
   "source": [
    "# Create data with noise"
   ]
  },
  {
   "cell_type": "code",
   "execution_count": 86,
   "metadata": {
    "ExecuteTime": {
     "end_time": "2020-03-09T20:25:17.516193Z",
     "start_time": "2020-03-09T20:25:17.511989Z"
    },
    "scrolled": true
   },
   "outputs": [],
   "source": [
    "np.random.seed(10)\n",
    "N = 20\n",
    "x = np.linspace(0,np.pi,N)\n",
    "y = np.sin(x) + np.random.uniform(-0.3,0.3,N)"
   ]
  },
  {
   "cell_type": "markdown",
   "metadata": {},
   "source": [
    "train/test split is not used in the examples here"
   ]
  },
  {
   "cell_type": "code",
   "execution_count": 87,
   "metadata": {
    "ExecuteTime": {
     "end_time": "2020-03-09T20:25:19.995828Z",
     "start_time": "2020-03-09T20:25:19.992638Z"
    }
   },
   "outputs": [],
   "source": [
    "x_train, x_test, y_train, y_test = train_test_split(x, y, test_size=0.2)"
   ]
  },
  {
   "cell_type": "code",
   "execution_count": 88,
   "metadata": {
    "ExecuteTime": {
     "end_time": "2020-03-09T20:25:32.419031Z",
     "start_time": "2020-03-09T20:25:32.283327Z"
    }
   },
   "outputs": [
    {
     "data": {
      "image/png": "[encoded data removed]",
      "text/plain": [
       "<matplotlib.figure.Figure at 0x1a33ef5048>"
      ]
     },
     "metadata": {},
     "output_type": "display_data"
    }
   ],
   "source": [
    "xs = np.linspace(0, np.pi)\n",
    "plt.plot(x_train, y_train,'bx')\n",
    "plt.plot(x_test, y_test,'go')\n",
    "plt.legend([\"training data\", \"testing data\"])\n",
    "plt.show()"
   ]
  },
  {
   "cell_type": "markdown",
   "metadata": {
    "ExecuteTime": {
     "end_time": "2020-03-05T15:02:20.543046Z",
     "start_time": "2020-03-05T15:02:20.540457Z"
    }
   },
   "source": [
    "# Default NN. Overfitting"
   ]
  },
  {
   "cell_type": "code",
   "execution_count": 89,
   "metadata": {
    "ExecuteTime": {
     "end_time": "2020-03-09T20:25:46.054660Z",
     "start_time": "2020-03-09T20:25:36.915202Z"
    }
   },
   "outputs": [
    {
     "name": "stdout",
     "output_type": "stream",
     "text": [
      "Model: \"sequential_19\"\n",
      "_________________________________________________________________\n",
      "Layer (type)                 Output Shape              Param #   \n",
      "=================================================================\n",
      "dense_73 (Dense)             (None, 100)               200       \n",
      "_________________________________________________________________\n",
      "dense_74 (Dense)             (None, 100)               10100     \n",
      "_________________________________________________________________\n",
      "dense_75 (Dense)             (None, 100)               10100     \n",
      "_________________________________________________________________\n",
      "dense_76 (Dense)             (None, 1)                 101       \n",
      "=================================================================\n",
      "Total params: 20,501\n",
      "Trainable params: 20,501\n",
      "Non-trainable params: 0\n",
      "_________________________________________________________________\n"
     ]
    }
   ],
   "source": [
    "model = nn_default(x_train, y_train)\n",
    "model.summary()"
   ]
  },
  {
   "cell_type": "code",
   "execution_count": 90,
   "metadata": {
    "ExecuteTime": {
     "end_time": "2020-03-09T20:25:46.642115Z",
     "start_time": "2020-03-09T20:25:46.064769Z"
    },
    "scrolled": true
   },
   "outputs": [
    {
     "data": {
      "image/png": "[encoded data removed]",
      "text/plain": [
       "<matplotlib.figure.Figure at 0x1a3446bdd8>"
      ]
     },
     "metadata": {},
     "output_type": "display_data"
    }
   ],
   "source": [
    "plot_data_prediction(x_train, y_train, x_test, y_test)"
   ]
  },
  {
   "cell_type": "code",
   "execution_count": 91,
   "metadata": {
    "ExecuteTime": {
     "end_time": "2020-03-09T20:25:46.661146Z",
     "start_time": "2020-03-09T20:25:46.652423Z"
    }
   },
   "outputs": [
    {
     "name": "stdout",
     "output_type": "stream",
     "text": [
      "R2 score (train) 0.9999999999998266\n",
      "R2 score (test) 0.5126551210530619\n"
     ]
    }
   ],
   "source": [
    "print_r2_score(model, x_train, y_train, x_test, y_test)"
   ]
  },
  {
   "cell_type": "markdown",
   "metadata": {},
   "source": [
    "# Overfit reduction"
   ]
  },
  {
   "cell_type": "markdown",
   "metadata": {},
   "source": [
    "## Regularization added to layer(s). L2 - Ridge Regression"
   ]
  },
  {
   "cell_type": "code",
   "execution_count": 92,
   "metadata": {
    "ExecuteTime": {
     "end_time": "2020-03-09T20:26:01.101917Z",
     "start_time": "2020-03-09T20:25:51.094152Z"
    }
   },
   "outputs": [
    {
     "name": "stdout",
     "output_type": "stream",
     "text": [
      "Model: \"sequential_20\"\n",
      "_________________________________________________________________\n",
      "Layer (type)                 Output Shape              Param #   \n",
      "=================================================================\n",
      "dense_77 (Dense)             (None, 100)               200       \n",
      "_________________________________________________________________\n",
      "dense_78 (Dense)             (None, 100)               10100     \n",
      "_________________________________________________________________\n",
      "dense_79 (Dense)             (None, 100)               10100     \n",
      "_________________________________________________________________\n",
      "dense_80 (Dense)             (None, 1)                 101       \n",
      "=================================================================\n",
      "Total params: 20,501\n",
      "Trainable params: 20,501\n",
      "Non-trainable params: 0\n",
      "_________________________________________________________________\n"
     ]
    }
   ],
   "source": [
    "regularization_lambda = 0.003\n",
    "model = nn_regularization(x_train, y_train, regularization_lambda)\n",
    "model.summary()"
   ]
  },
  {
   "cell_type": "code",
   "execution_count": 94,
   "metadata": {
    "ExecuteTime": {
     "end_time": "2020-03-09T20:26:06.430952Z",
     "start_time": "2020-03-09T20:26:05.888606Z"
    }
   },
   "outputs": [
    {
     "data": {
      "image/png": "[encoded data removed]",
      "text/plain": [
       "<matplotlib.figure.Figure at 0x1a34fdc0f0>"
      ]
     },
     "metadata": {},
     "output_type": "display_data"
    }
   ],
   "source": [
    "plot_data_prediction(x_train, y_train, x_test, y_test)"
   ]
  },
  {
   "cell_type": "code",
   "execution_count": 95,
   "metadata": {
    "ExecuteTime": {
     "end_time": "2020-03-09T20:26:07.211835Z",
     "start_time": "2020-03-09T20:26:07.204121Z"
    }
   },
   "outputs": [
    {
     "name": "stdout",
     "output_type": "stream",
     "text": [
      "R2 score (train) 0.7417280344716878\n",
      "R2 score (test) 0.45547649074615915\n"
     ]
    }
   ],
   "source": [
    "print_r2_score(model, x_train, y_train, x_test, y_test)"
   ]
  },
  {
   "cell_type": "markdown",
   "metadata": {},
   "source": [
    "## Dropout layers"
   ]
  },
  {
   "cell_type": "code",
   "execution_count": 96,
   "metadata": {
    "ExecuteTime": {
     "end_time": "2020-03-09T20:26:19.837251Z",
     "start_time": "2020-03-09T20:26:09.140386Z"
    }
   },
   "outputs": [
    {
     "name": "stdout",
     "output_type": "stream",
     "text": [
      "Model: \"sequential_21\"\n",
      "_________________________________________________________________\n",
      "Layer (type)                 Output Shape              Param #   \n",
      "=================================================================\n",
      "dense_81 (Dense)             (None, 100)               200       \n",
      "_________________________________________________________________\n",
      "dropout_28 (Dropout)         (None, 100)               0         \n",
      "_________________________________________________________________\n",
      "dense_82 (Dense)             (None, 100)               10100     \n",
      "_________________________________________________________________\n",
      "dropout_29 (Dropout)         (None, 100)               0         \n",
      "_________________________________________________________________\n",
      "dense_83 (Dense)             (None, 100)               10100     \n",
      "_________________________________________________________________\n",
      "dropout_30 (Dropout)         (None, 100)               0         \n",
      "_________________________________________________________________\n",
      "dense_84 (Dense)             (None, 1)                 101       \n",
      "=================================================================\n",
      "Total params: 20,501\n",
      "Trainable params: 20,501\n",
      "Non-trainable params: 0\n",
      "_________________________________________________________________\n"
     ]
    }
   ],
   "source": [
    "dropout_rate = 0.4\n",
    "model = nn_dropout(x_train, y_train, dropout_rate)\n",
    "model.summary()"
   ]
  },
  {
   "cell_type": "code",
   "execution_count": 97,
   "metadata": {
    "ExecuteTime": {
     "end_time": "2020-03-09T20:26:20.451827Z",
     "start_time": "2020-03-09T20:26:19.848426Z"
    }
   },
   "outputs": [
    {
     "data": {
      "image/png": "[encoded data removed]",
      "text/plain": [
       "<matplotlib.figure.Figure at 0x1a316847b8>"
      ]
     },
     "metadata": {},
     "output_type": "display_data"
    }
   ],
   "source": [
    "plot_data_prediction(x_train, y_train, x_test, y_test)"
   ]
  },
  {
   "cell_type": "code",
   "execution_count": 98,
   "metadata": {
    "ExecuteTime": {
     "end_time": "2020-03-09T20:26:20.472113Z",
     "start_time": "2020-03-09T20:26:20.462872Z"
    }
   },
   "outputs": [
    {
     "name": "stdout",
     "output_type": "stream",
     "text": [
      "R2 score (train) 0.8029785819595829\n",
      "R2 score (test) 0.314244887574491\n"
     ]
    }
   ],
   "source": [
    "print_r2_score(model, x_train, y_train, x_test, y_test)"
   ]
  },
  {
   "cell_type": "markdown",
   "metadata": {},
   "source": [
    "# Conclusion"
   ]
  },
  {
   "cell_type": "markdown",
   "metadata": {},
   "source": [
    "|       Neural Network   | R2 trn | R2 tst |\n",
    "|------------------------|:------:|-------:|\n",
    "| Default. Overfitting   |  0.999 |  0.179 |\n",
    "| With L2 regularization |  0.742 |  0.456 |\n",
    "| With dropout layers    |  0.765 |  0.520 |"
   ]
  },
  {
   "cell_type": "markdown",
   "metadata": {
    "ExecuteTime": {
     "end_time": "2020-03-09T20:20:14.642009Z",
     "start_time": "2020-03-09T20:20:14.637926Z"
    }
   },
   "source": [
    "Default NN overfits on our dataset. It can be seen from R2 score - high on training and low on testing datasets.\n",
    "Overfiting reduction methods reduce R2 score on training dataset  at the same incresse model's generalization. "
   ]
  },
  {
   "cell_type": "code",
   "execution_count": null,
   "metadata": {},
   "outputs": [],
   "source": []
  }
 ],
 "metadata": {
  "hide_input": false,
  "kernelspec": {
   "display_name": "Python 3",
   "language": "python",
   "name": "python3"
  },
  "language_info": {
   "codemirror_mode": {
    "name": "ipython",
    "version": 3
   },
   "file_extension": ".py",
   "mimetype": "text/x-python",
   "name": "python",
   "nbconvert_exporter": "python",
   "pygments_lexer": "ipython3",
   "version": "3.7.3"
  },
  "toc": {
   "base_numbering": 1,
   "nav_menu": {},
   "number_sections": true,
   "sideBar": true,
   "skip_h1_title": false,
   "title_cell": "Table of Contents",
   "title_sidebar": "Contents",
   "toc_cell": false,
   "toc_position": {},
   "toc_section_display": true,
   "toc_window_display": false
  },
  "varInspector": {
   "cols": {
    "lenName": 16,
    "lenType": 16,
    "lenVar": 40
   },
   "kernels_config": {
    "python": {
     "delete_cmd_postfix": "",
     "delete_cmd_prefix": "del ",
     "library": "var_list.py",
     "varRefreshCmd": "print(var_dic_list())"
    },
    "r": {
     "delete_cmd_postfix": ") ",
     "delete_cmd_prefix": "rm(",
     "library": "var_list.r",
     "varRefreshCmd": "cat(var_dic_list()) "
    }
   },
   "types_to_exclude": [
    "module",
    "function",
    "builtin_function_or_method",
    "instance",
    "_Feature"
   ],
   "window_display": false
  }
 },
 "nbformat": 4,
 "nbformat_minor": 2
}
