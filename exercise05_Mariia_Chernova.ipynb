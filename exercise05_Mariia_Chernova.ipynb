{
 "cells": [
  {
   "cell_type": "markdown",
   "metadata": {
    "deletable": false,
    "editable": false,
    "nbgrader": {
     "cell_type": "markdown",
     "checksum": "e5ba5779c9938c1a406574cb4392fe00",
     "grade": false,
     "grade_id": "cell-9be32c3a22d51f62",
     "locked": true,
     "schema_version": 3,
     "solution": false,
     "task": false
    }
   },
   "source": [
    "### Exercise 5: Clustering"
   ]
  },
  {
   "cell_type": "markdown",
   "metadata": {},
   "source": [
    "Please write your name and student id  Mariia Chernova 1908135"
   ]
  },
  {
   "cell_type": "code",
   "execution_count": 1,
   "metadata": {
    "ExecuteTime": {
     "end_time": "2020-03-02T16:44:07.303778Z",
     "start_time": "2020-03-02T16:44:07.291364Z"
    }
   },
   "outputs": [],
   "source": [
    "import numpy as np\n",
    "from numpy import genfromtxt\n",
    "import matplotlib.pyplot as plt\n",
    "from sklearn.preprocessing import StandardScaler\n",
    "from sklearn.model_selection import train_test_split\n",
    "from sklearn.decomposition import PCA\n",
    "from sklearn.svm import SVC\n",
    "from sklearn.svm import LinearSVC\n",
    "from sklearn.linear_model import LogisticRegression\n",
    "from sklearn.cluster import KMeans\n",
    "from scipy.stats import norm\n",
    "import math\n",
    "from sklearn.mixture import GaussianMixture\n",
    "from sklearn.linear_model import LinearRegression\n",
    "from scipy.stats import multivariate_normal\n",
    "from sklearn.discriminant_analysis import LinearDiscriminantAnalysis"
   ]
  },
  {
   "cell_type": "markdown",
   "metadata": {},
   "source": [
    "Read in the dataset in exercise05.csv"
   ]
  },
  {
   "cell_type": "code",
   "execution_count": 14,
   "metadata": {
    "ExecuteTime": {
     "end_time": "2020-03-02T16:44:08.495065Z",
     "start_time": "2020-03-02T16:44:08.447420Z"
    },
    "deletable": false,
    "nbgrader": {
     "cell_type": "code",
     "checksum": "ba38e6c28be33e3a97380c224e425498",
     "grade": false,
     "grade_id": "cell-69ef15d7d8c724d7",
     "locked": false,
     "schema_version": 3,
     "solution": true,
     "task": false
    }
   },
   "outputs": [],
   "source": [
    "data = np.genfromtxt(\"./exercise05.csv\", delimiter=\",\", skip_header=1)\n",
    "# YOUR CODE HERE\n",
    "# raise NotImplementedError()"
   ]
  },
  {
   "cell_type": "code",
   "execution_count": 15,
   "metadata": {
    "ExecuteTime": {
     "end_time": "2020-03-02T16:44:12.872104Z",
     "start_time": "2020-03-02T16:44:12.869209Z"
    },
    "deletable": false,
    "editable": false,
    "nbgrader": {
     "cell_type": "code",
     "checksum": "41d3828d8b976339eb1b57a0d003ebcb",
     "grade": true,
     "grade_id": "cell-afbe3c9a43536b5e",
     "locked": true,
     "points": 1,
     "schema_version": 3,
     "solution": false,
     "task": false
    }
   },
   "outputs": [],
   "source": [
    "assert(data.shape == (51,5) or data.shape == (50,5))"
   ]
  },
  {
   "cell_type": "code",
   "execution_count": 4,
   "metadata": {
    "ExecuteTime": {
     "end_time": "2020-03-02T16:44:37.121382Z",
     "start_time": "2020-03-02T16:44:37.115507Z"
    },
    "deletable": false,
    "nbgrader": {
     "cell_type": "code",
     "checksum": "b012067efebe7e2df98042d3e2f1d4d1",
     "grade": false,
     "grade_id": "cell-9444d8ce33604abd",
     "locked": false,
     "schema_version": 3,
     "solution": true,
     "task": false
    }
   },
   "outputs": [],
   "source": [
    "# assign to x the data excluding class info (last column) that gets assigned to y\n",
    "# scale x data (assign scaler object to variable scaler) and assign to scaled_x\n",
    "x = data[:,:4]\n",
    "y = data[:,4]\n",
    "scaler = StandardScaler().fit(x)\n",
    "scaled_x = scaler.transform(x)\n",
    "# raise NotImplementedError()"
   ]
  },
  {
   "cell_type": "code",
   "execution_count": 5,
   "metadata": {
    "ExecuteTime": {
     "end_time": "2020-03-02T16:44:45.216932Z",
     "start_time": "2020-03-02T16:44:45.213504Z"
    },
    "deletable": false,
    "editable": false,
    "nbgrader": {
     "cell_type": "code",
     "checksum": "8d6bf5c97881a6c10e28cbd45d47e65c",
     "grade": true,
     "grade_id": "cell-890bacfb6f07417f",
     "locked": true,
     "points": 1,
     "schema_version": 3,
     "solution": false,
     "task": false
    }
   },
   "outputs": [],
   "source": [
    "assert(x.shape == (51,4))\n",
    "assert(y.shape[0] == 51)"
   ]
  },
  {
   "cell_type": "markdown",
   "metadata": {},
   "source": [
    "Perform PCA for scaled_x with a n_components parameter that lets you plot the explained variance for components."
   ]
  },
  {
   "cell_type": "code",
   "execution_count": 6,
   "metadata": {
    "ExecuteTime": {
     "end_time": "2020-03-02T16:46:02.756585Z",
     "start_time": "2020-03-02T16:46:02.566486Z"
    },
    "deletable": false,
    "nbgrader": {
     "cell_type": "code",
     "checksum": "918c3f108ec47d925b6f708b2f42f08e",
     "grade": false,
     "grade_id": "cell-320b4ea26d427a76",
     "locked": false,
     "schema_version": 3,
     "solution": true,
     "task": false
    }
   },
   "outputs": [
    {
     "data": {
      "image/png": "[encoded data removed]",
      "text/plain": [
       "<Figure size 432x288 with 1 Axes>"
      ]
     },
     "metadata": {
      "needs_background": "light"
     },
     "output_type": "display_data"
    }
   ],
   "source": [
    "# YOUR CODE HERE\n",
    "# raise NotImplementedError()\n",
    "n_components = scaled_x.shape[1]\n",
    "pca = PCA(n_components = n_components)\n",
    "pca.fit(scaled_x)\n",
    "\n",
    "plt.plot(range(1,scaled_x.shape[1]+1), pca.explained_variance_ratio_, \"bo\")\n",
    "plt.xlabel(\"Principal Component\")\n",
    "plt.ylabel(\"Explained Variance\")\n",
    "plt.show()"
   ]
  },
  {
   "cell_type": "code",
   "execution_count": 7,
   "metadata": {
    "ExecuteTime": {
     "end_time": "2020-03-02T16:46:47.577163Z",
     "start_time": "2020-03-02T16:46:47.573087Z"
    },
    "deletable": false,
    "editable": false,
    "nbgrader": {
     "cell_type": "code",
     "checksum": "3d331ed4b6a15ee20b19516209111011",
     "grade": true,
     "grade_id": "cell-6fe615468ad7300f",
     "locked": true,
     "points": 1,
     "schema_version": 3,
     "solution": false,
     "task": false
    }
   },
   "outputs": [],
   "source": [
    "np.testing.assert_almost_equal(np.sum(pca.explained_variance_ratio_), 1.0, decimal=2)\n",
    "np.testing.assert_almost_equal(np.sum(pca.explained_variance_ratio_[0:2]), 0.69, decimal=2)"
   ]
  },
  {
   "cell_type": "markdown",
   "metadata": {},
   "source": [
    "Despite the fact that we could probably drop 1-2 dimensions, we don't do it this time; we'd like to maintain interpretability of the results (note that pca maps the features to new space where coordinates are linear combinations of the original ones - it can be hard to understand). The mapping is available in attribute components_, take a look at that if you are interested.\n"
   ]
  },
  {
   "cell_type": "markdown",
   "metadata": {},
   "source": [
    "#### KMeans clustering\n",
    "\n",
    "Let's cluster the data with KMeans."
   ]
  },
  {
   "cell_type": "code",
   "execution_count": 28,
   "metadata": {
    "ExecuteTime": {
     "end_time": "2020-03-02T16:47:26.741162Z",
     "start_time": "2020-03-02T16:47:26.689054Z"
    },
    "deletable": false,
    "nbgrader": {
     "cell_type": "code",
     "checksum": "d3ba488d99d341664f51315536a5ea47",
     "grade": false,
     "grade_id": "cell-10048fd3ed865ae6",
     "locked": false,
     "schema_version": 3,
     "solution": true,
     "task": false
    }
   },
   "outputs": [],
   "source": [
    "# YOUR CODE HERE\n",
    "n_clusters = 2\n",
    "kmeans = KMeans(n_clusters=n_clusters, random_state=10).fit(scaled_x)"
   ]
  },
  {
   "cell_type": "code",
   "execution_count": 29,
   "metadata": {
    "ExecuteTime": {
     "end_time": "2020-03-02T16:47:29.461082Z",
     "start_time": "2020-03-02T16:47:29.448371Z"
    },
    "scrolled": true
   },
   "outputs": [
    {
     "name": "stdout",
     "output_type": "stream",
     "text": [
      "[2680.45454545  248.40909091  158.68181818   69.68181818]\n",
      "[3097.82758621  154.10344828  174.82758621   78.51724138]\n"
     ]
    }
   ],
   "source": [
    "print(np.mean(scaler.inverse_transform(scaled_x[kmeans.labels_ == 0]),axis=0))\n",
    "print(np.mean(scaler.inverse_transform(scaled_x[kmeans.labels_ == 1]),axis=0))"
   ]
  },
  {
   "cell_type": "code",
   "execution_count": 30,
   "metadata": {
    "ExecuteTime": {
     "end_time": "2020-03-02T16:59:42.999868Z",
     "start_time": "2020-03-02T16:59:42.993507Z"
    }
   },
   "outputs": [
    {
     "data": {
      "text/plain": [
       "array([[22,  4],\n",
       "       [ 0, 25]])"
      ]
     },
     "execution_count": 30,
     "metadata": {},
     "output_type": "execute_result"
    }
   ],
   "source": [
    "# Confusion matrix\n",
    "from sklearn.metrics import confusion_matrix\n",
    "confusion_matrix(y, kmeans.labels_)"
   ]
  },
  {
   "cell_type": "code",
   "execution_count": 31,
   "metadata": {
    "ExecuteTime": {
     "end_time": "2020-03-02T17:11:47.894219Z",
     "start_time": "2020-03-02T17:11:47.878574Z"
    }
   },
   "outputs": [
    {
     "name": "stdout",
     "output_type": "stream",
     "text": [
      "Female class\n",
      "# Real label:    [2799.19230769  239.69230769  160.26923077   70.38461538]\n",
      "# K-means label: [2680.45454545  248.40909091  158.68181818   69.68181818]\n",
      "Male class\n",
      "# Clustered data\n",
      "# Real label:    [3041.12  148.08  175.76   79.2 ]\n",
      "# K-means label: [3097.82758621  154.10344828  174.82758621   78.51724138]\n"
     ]
    }
   ],
   "source": [
    "# 3. Compare the averages from clustered data with averages calculated from real sample classes.\n",
    "print(\"Female class\")\n",
    "print(\"# Real label:    \", end = '')\n",
    "print(np.mean(x[y == 0],0))\n",
    "print(\"# K-means label: \", end = '')\n",
    "print(np.mean(x[kmeans.labels_ == 0],0))\n",
    "print(\"Male class\")\n",
    "print(\"# Clustered data\")\n",
    "print(\"# Real label:    \", end = '')\n",
    "print(np.mean(x[y == 1],0))\n",
    "print(\"# K-means label: \", end = '')\n",
    "print(np.mean(x[kmeans.labels_ == 1],0))"
   ]
  },
  {
   "cell_type": "markdown",
   "metadata": {},
   "source": [
    "#### Looking at the results\n",
    "\n",
    "Please answer in the cell below.\n",
    "\n",
    "1. What is the purpose of scaler.inverse_transform() call? Could you avoid it?\n",
    "2. Which line represents cluster of females? Does it match the label (0 / 1)? Should it match? Why / why not?\n",
    "3. Compare the averages from clustered data with averages calculated from real sample classes. Any noticable differences?"
   ]
  },
  {
   "cell_type": "markdown",
   "metadata": {},
   "source": [
    "1. scaler.inverse_transform() scales back to original representation, i.e. features' means and variances get original values. If we want to know the coordinates of cluster centers in the original space, then we need to use this method.\n",
    "2. In accordance with the confusion matrix above, the first cluster (kmeans.labels_ == 0) contains only females (y == 0). The second cluster (kmeans.labels_ == 1) contains mainly males (y == 1). So, first line (kmeans.labels_ == 0) represents females, which match label 0 (y == 0). Matching is not necessary as long as k means algorithm randomly assigns cluster labels.\n",
    "3. Average values of salary, housecare time, height and weight over classes defined by true labels and k-means labels are rather close to each other. This is due to a significant overlap between true and k-means cluster labels."
   ]
  },
  {
   "cell_type": "markdown",
   "metadata": {},
   "source": [
    "Visualize kmeans results by looking at salary/housecare time and height/weight plots.\n",
    "\n",
    "Which pair in your view gives a better and more truthful separation for the two classes? Please answer in the last cell."
   ]
  },
  {
   "cell_type": "code",
   "execution_count": 32,
   "metadata": {
    "ExecuteTime": {
     "end_time": "2020-03-02T18:25:58.213886Z",
     "start_time": "2020-03-02T18:25:57.905791Z"
    },
    "deletable": false,
    "nbgrader": {
     "cell_type": "code",
     "checksum": "4f14d8768d825fc50e7a34727a679c15",
     "grade": false,
     "grade_id": "cell-635713f2fc3c870b",
     "locked": false,
     "schema_version": 3,
     "solution": true,
     "task": false
    }
   },
   "outputs": [
    {
     "data": {
      "text/plain": [
       "<matplotlib.legend.Legend at 0x1a1717b400>"
      ]
     },
     "execution_count": 32,
     "metadata": {},
     "output_type": "execute_result"
    },
    {
     "data": {
      "image/png": "[encoded data removed]",
      "text/plain": [
       "<Figure size 432x288 with 2 Axes>"
      ]
     },
     "metadata": {
      "needs_background": "light"
     },
     "output_type": "display_data"
    }
   ],
   "source": [
    "fig, ax = plt.subplots(1,2)\n",
    "axis_names = (\"Salary\", \"Housecare time\", \"Height\", \"Weight\")\n",
    "for (f1, f2, ax_id) in ((0, 1, 0), (2, 3, 1)):\n",
    "    ox = x[:, f1]\n",
    "    oy = x[:, f2]\n",
    "\n",
    "    inverse_cluster_centers = scaler.inverse_transform(kmeans.cluster_centers_)\n",
    "    ox_clucter = inverse_cluster_centers[:, f1]\n",
    "    oy_clucter = inverse_cluster_centers[:, f2]\n",
    "\n",
    "    # plot cluster centers\n",
    "    ax[ax_id].plot(ox_clucter[0], oy_clucter[0], 'ro')\n",
    "    ax[ax_id].plot(ox_clucter[1], oy_clucter[1], 'bo')\n",
    "    \n",
    "    # plot female, k-means label == 0\n",
    "    idx = (y == 0) & (kmeans.labels_ == 0)\n",
    "    ax[ax_id].plot(ox[idx], oy[idx], 'rx')\n",
    "    \n",
    "    # plot female, k-means label == 1\n",
    "    idx = (y == 0) & (kmeans.labels_ == 1)\n",
    "    ax[ax_id].plot(ox[idx], oy[idx], 'bx')\n",
    "    \n",
    "    # plot male, k-means label == 0\n",
    "    idx = (y == 1) & (kmeans.labels_ == 0)\n",
    "    ax[ax_id].plot(ox[idx], oy[idx], 'r_')\n",
    "    \n",
    "    # plot male, k-means label == 1\n",
    "    idx = (y == 1) & (kmeans.labels_ == 1)\n",
    "    ax[ax_id].plot(ox[idx], oy[idx], 'b_')\n",
    "        \n",
    "    # label axes\n",
    "    ax[ax_id].set_xlabel(axis_names[f1])\n",
    "    ax[ax_id].set_ylabel(axis_names[f2])\n",
    "\n",
    "plt.legend([\"kmeans_0_center\", \"kmeans_1_center\", \"female_kmeans_0\",\n",
    "            \"female_kmeans_1\", \"male_kmeans_0\", \"male_kmeans_1\"],\n",
    "           loc='center left', bbox_to_anchor=(1, 0.5))\n",
    "# raise NotImplementedError()"
   ]
  },
  {
   "cell_type": "markdown",
   "metadata": {},
   "source": [
    "1.1 KMeans clustering\n",
    "Q: Which pair in your view gives a better and more truthful separation for the two classes?\n",
    "A: Simply looking at the plots, it is quite hard to say which pair of features gives a better separation between male and female classes. A more detailed investigation is needed.\n",
    "Salary and weight seem to be quite uninformative for the classification task, because female and male labels are higly mixed in these dimensions. On the other side, weight and housecase time are more descriptive features than salary and weight. I would say that female and male classes are less mixed, thus, have better separation, in the dimension of height and weight"
   ]
  },
  {
   "cell_type": "markdown",
   "metadata": {},
   "source": [
    "### GMM\n",
    "\n",
    "Perform soft (Gaussian) clustering of the data. Compare the per class cluster means with means from sample data."
   ]
  },
  {
   "cell_type": "code",
   "execution_count": 35,
   "metadata": {
    "ExecuteTime": {
     "end_time": "2020-03-02T19:14:49.962342Z",
     "start_time": "2020-03-02T19:14:49.935873Z"
    },
    "deletable": false,
    "nbgrader": {
     "cell_type": "code",
     "checksum": "4c18b2e3e3d830d86bd22f6fec06e6f9",
     "grade": false,
     "grade_id": "cell-0a6bbb1b6a347001",
     "locked": false,
     "schema_version": 3,
     "solution": true,
     "task": false
    }
   },
   "outputs": [
    {
     "name": "stdout",
     "output_type": "stream",
     "text": [
      "Female class\n",
      "# Real label: [2799.19230769  239.69230769  160.26923077   70.38461538]\n",
      "# GMM:        [2401.34915982  241.6585062   161.24387875   62.59465662]\n",
      "Male class\n",
      "# Clustered data\n",
      "# Real label: [3041.12  148.08  175.76   79.2 ]\n",
      "# GMM:        [3147.6936517   173.91661237  170.80936708   80.09762199]\n"
     ]
    }
   ],
   "source": [
    "# YOUR CODE HERE\n",
    "gmm = GaussianMixture(n_components=2, random_state=0)\n",
    "gmm.fit(x)\n",
    "\n",
    "# Compare the per class cluster means with means from sample data\n",
    "print(\"Female class\")\n",
    "print(\"# Real label: \", end = '')\n",
    "print(np.mean(x[y == 0],0))\n",
    "print(\"# GMM:        \", end = '')\n",
    "print(gmm.means_[1, :])\n",
    "print(\"Male class\")\n",
    "print(\"# Clustered data\")\n",
    "print(\"# Real label: \", end = '')\n",
    "print(np.mean(x[y == 1],0))\n",
    "print(\"# GMM:        \", end = '')\n",
    "print(gmm.means_[0, :])"
   ]
  }
 ],
 "metadata": {
  "hide_input": false,
  "kernelspec": {
   "display_name": "Python 3",
   "language": "python",
   "name": "python3"
  },
  "language_info": {
   "codemirror_mode": {
    "name": "ipython",
    "version": 3
   },
   "file_extension": ".py",
   "mimetype": "text/x-python",
   "name": "python",
   "nbconvert_exporter": "python",
   "pygments_lexer": "ipython3",
   "version": "3.7.3"
  },
  "toc": {
   "base_numbering": 1,
   "nav_menu": {},
   "number_sections": true,
   "sideBar": true,
   "skip_h1_title": false,
   "title_cell": "Table of Contents",
   "title_sidebar": "Contents",
   "toc_cell": false,
   "toc_position": {},
   "toc_section_display": true,
   "toc_window_display": false
  },
  "varInspector": {
   "cols": {
    "lenName": 16,
    "lenType": 16,
    "lenVar": 40
   },
   "kernels_config": {
    "python": {
     "delete_cmd_postfix": "",
     "delete_cmd_prefix": "del ",
     "library": "var_list.py",
     "varRefreshCmd": "print(var_dic_list())"
    },
    "r": {
     "delete_cmd_postfix": ") ",
     "delete_cmd_prefix": "rm(",
     "library": "var_list.r",
     "varRefreshCmd": "cat(var_dic_list()) "
    }
   },
   "types_to_exclude": [
    "module",
    "function",
    "builtin_function_or_method",
    "instance",
    "_Feature"
   ],
   "window_display": false
  }
 },
 "nbformat": 4,
 "nbformat_minor": 2
}
