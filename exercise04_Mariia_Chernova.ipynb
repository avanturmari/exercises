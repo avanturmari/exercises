{
 "cells": [
  {
   "cell_type": "markdown",
   "metadata": {},
   "source": [
    "### Exercise 4: NMIST classification"
   ]
  },
  {
   "cell_type": "markdown",
   "metadata": {},
   "source": [
    "Name and student id: Mariia Chernova 1908135"
   ]
  },
  {
   "cell_type": "code",
   "execution_count": 1,
   "metadata": {},
   "outputs": [],
   "source": [
    "import numpy as np\n",
    "from numpy import genfromtxt\n",
    "import matplotlib.pyplot as plt\n",
    "from sklearn.utils.extmath import cartesian\n",
    "from sklearn.datasets import fetch_openml\n",
    "from sklearn import preprocessing\n",
    "from sklearn.preprocessing import StandardScaler\n",
    "from sklearn.metrics import confusion_matrix\n",
    "from sklearn.model_selection import train_test_split\n",
    "from sklearn.svm import SVC\n",
    "from sklearn import tree\n",
    "from sklearn.ensemble import RandomForestClassifier"
   ]
  },
  {
   "cell_type": "code",
   "execution_count": 2,
   "metadata": {},
   "outputs": [],
   "source": [
    "x, y = fetch_openml('mnist_784', version=1, return_X_y=True) # download takes a while "
   ]
  },
  {
   "cell_type": "markdown",
   "metadata": {},
   "source": [
    "Standardize feature data and split the data into training and test sets with 30% for training."
   ]
  },
  {
   "cell_type": "code",
   "execution_count": 27,
   "metadata": {
    "deletable": false,
    "nbgrader": {
     "cell_type": "code",
     "checksum": "4f1720ab7de24a6b27875d52c24c7f9e",
     "grade": false,
     "grade_id": "cell-209025c51cb01994",
     "locked": false,
     "schema_version": 3,
     "solution": true,
     "task": false
    }
   },
   "outputs": [
    {
     "name": "stdout",
     "output_type": "stream",
     "text": [
      "(49000, 784)\n"
     ]
    }
   ],
   "source": [
    "scaler = preprocessing.StandardScaler().fit(x)\n",
    "scaled_x = scaler.transform(x)\n",
    "x_train, x_test, y_train, y_test = train_test_split(scaled_x, y, test_size=0.3)\n",
    "# raise NotImplementedError()\n",
    "print(x_train.shape)"
   ]
  },
  {
   "cell_type": "code",
   "execution_count": 29,
   "metadata": {
    "deletable": false,
    "editable": false,
    "nbgrader": {
     "cell_type": "code",
     "checksum": "8e86d3ce364edfedc4fef55df122fb13",
     "grade": true,
     "grade_id": "cell-12fbc75302e1add3",
     "locked": true,
     "points": 2,
     "schema_version": 3,
     "solution": false,
     "task": false
    }
   },
   "outputs": [],
   "source": [
    "assert(x_train.shape == (49000, 784))"
   ]
  },
  {
   "cell_type": "markdown",
   "metadata": {},
   "source": [
    "Train a decision tree classifier model (assign to variable model) with default parameters. Compute training and test scores and assign them to training_score and test_score. Also print the confusion matrix for both training and test sets."
   ]
  },
  {
   "cell_type": "code",
   "execution_count": 32,
   "metadata": {
    "deletable": false,
    "nbgrader": {
     "cell_type": "code",
     "checksum": "78373395063d18cd1b0057cd3e5f07fc",
     "grade": false,
     "grade_id": "cell-c003e2eba3246ea7",
     "locked": false,
     "schema_version": 3,
     "solution": true,
     "task": false
    }
   },
   "outputs": [
    {
     "name": "stdout",
     "output_type": "stream",
     "text": [
      "training accuracy 1.0\n",
      "[[4849    0    0    0    0    0    0    0    0    0]\n",
      " [   0 5503    0    0    0    0    0    0    0    0]\n",
      " [   0    0 4869    0    0    0    0    0    0    0]\n",
      " [   0    0    0 4969    0    0    0    0    0    0]\n",
      " [   0    0    0    0 4795    0    0    0    0    0]\n",
      " [   0    0    0    0    0 4333    0    0    0    0]\n",
      " [   0    0    0    0    0    0 4776    0    0    0]\n",
      " [   0    0    0    0    0    0    0 5175    0    0]\n",
      " [   0    0    0    0    0    0    0    0 4813    0]\n",
      " [   0    0    0    0    0    0    0    0    0 4918]]\n",
      "validation accuracy 0.8672380952380953\n",
      "[[1881    2   24   20   18   37   25   12   19   10]\n",
      " [   2 2272   30   23   18   14    7   20   32    8]\n",
      " [  24   21 1797   62   25   27   25   41   45   18]\n",
      " [  18   15   65 1788   12   79    7   30   68   44]\n",
      " [  14   10   36   18 1727   26   37   25   40   92]\n",
      " [  26   10   14   94   22 1604   43    9   80   42]\n",
      " [  39    6   35   14   26   69 1900    3   31   10]\n",
      " [   4    7   53   31   25   20    2 1904   19   58]\n",
      " [  25   21   52   76   46   62   42   19 1620   39]\n",
      " [  21   10   15   46  110   42   12   55   58 1719]]\n"
     ]
    }
   ],
   "source": [
    "model = tree.DecisionTreeClassifier()\n",
    "model.fit(x_train, y_train)\n",
    "training_score = model.score(x_train, y_train)\n",
    "test_score = model.score(x_test, y_test)\n",
    "print(\"training accuracy\", training_score)\n",
    "print(confusion_matrix(model.predict(x_train), y_train))\n",
    "\n",
    "print(\"validation accuracy\", test_score)\n",
    "cfm = confusion_matrix(model.predict(x_test), y_test)\n",
    "print(cfm)\n",
    "   \n",
    "# raise NotImplementedError()"
   ]
  },
  {
   "cell_type": "code",
   "execution_count": 34,
   "metadata": {
    "deletable": false,
    "editable": false,
    "nbgrader": {
     "cell_type": "code",
     "checksum": "f3ec9cd762796a42669c0a829ebc0d69",
     "grade": true,
     "grade_id": "cell-4dd090649c9d931d",
     "locked": true,
     "points": 7,
     "schema_version": 3,
     "solution": false,
     "task": false
    }
   },
   "outputs": [],
   "source": [
    "np.testing.assert_almost_equal(training_score, 1.0, decimal=1)\n",
    "np.testing.assert_almost_equal(test_score, 0.87, decimal=1)"
   ]
  },
  {
   "cell_type": "markdown",
   "metadata": {},
   "source": [
    "How many times in validation set\n",
    "- digit 3 gets misclassified?\n",
    "- digit 4 gets misclassified as 7?\n",
    "\n",
    "What is the most misclassified digit?\n",
    "\n",
    "Please answer in cell below."
   ]
  },
  {
   "cell_type": "markdown",
   "metadata": {
    "deletable": false,
    "nbgrader": {
     "cell_type": "markdown",
     "checksum": "e98e9711489f9b500be09ba3d93dce35",
     "grade": true,
     "grade_id": "cell-55c2755f23c8ffd9",
     "locked": false,
     "points": 4,
     "schema_version": 3,
     "solution": true,
     "task": false
    }
   },
   "source": [
    "YOUR ANSWER HERE"
   ]
  },
  {
   "cell_type": "code",
   "execution_count": 35,
   "metadata": {},
   "outputs": [
    {
     "data": {
      "text/plain": [
       "384"
      ]
     },
     "execution_count": 35,
     "metadata": {},
     "output_type": "execute_result"
    }
   ],
   "source": [
    "# digit 3 gets misclassified?\n",
    "digit3_misclassified = cfm[:,3].sum()-cfm[3,3]\n",
    "digit3_misclassified"
   ]
  },
  {
   "cell_type": "code",
   "execution_count": 36,
   "metadata": {},
   "outputs": [
    {
     "data": {
      "text/plain": [
       "25"
      ]
     },
     "execution_count": 36,
     "metadata": {},
     "output_type": "execute_result"
    }
   ],
   "source": [
    "# digit 4 gets misclassified as 7?\n",
    "digit4_misclassified_as7 = cfm[7,4]\n",
    "digit4_misclassified_as7"
   ]
  },
  {
   "cell_type": "code",
   "execution_count": 39,
   "metadata": {},
   "outputs": [
    {
     "data": {
      "text/plain": [
       "8"
      ]
     },
     "execution_count": 39,
     "metadata": {},
     "output_type": "execute_result"
    }
   ],
   "source": [
    "# What is the most misclassified digit?\n",
    "digit_most_misclassified = np.argmax([cfm[:,i].sum()-cfm[i,i] for i in range(10)])\n",
    "digit_most_misclassified"
   ]
  },
  {
   "cell_type": "markdown",
   "metadata": {},
   "source": [
    "Train a random forest classifier model (assigned to variable model) with default parameters. Compute training and test scores and assign them to training_score and test_score. Also print the confusion matrix for both training and test sets."
   ]
  },
  {
   "cell_type": "code",
   "execution_count": 40,
   "metadata": {
    "deletable": false,
    "nbgrader": {
     "cell_type": "code",
     "checksum": "c3809696e22fc69768848ceb1b5e1783",
     "grade": false,
     "grade_id": "cell-79b9eddba0cbcb28",
     "locked": false,
     "schema_version": 3,
     "solution": true,
     "task": false
    }
   },
   "outputs": [
    {
     "name": "stderr",
     "output_type": "stream",
     "text": [
      "/Users/maria/anaconda3/lib/python3.7/site-packages/sklearn/ensemble/forest.py:245: FutureWarning: The default value of n_estimators will change from 10 in version 0.20 to 100 in 0.22.\n",
      "  \"10 in version 0.20 to 100 in 0.22.\", FutureWarning)\n"
     ]
    },
    {
     "name": "stdout",
     "output_type": "stream",
     "text": [
      "training accuracy 0.9992448979591837\n",
      "[[4849    0    0    0    0    0    1    0    0    0]\n",
      " [   0 5503    0    0    0    0    2    0    0    0]\n",
      " [   0    0 4867    6    0    1    0    2    0    0]\n",
      " [   0    0    2 4961    0    2    0    0    0    2]\n",
      " [   0    0    0    0 4793    1    0    0    0    2]\n",
      " [   0    0    0    0    0 4328    2    0    0    2]\n",
      " [   0    0    0    0    0    0 4771    0    0    0]\n",
      " [   0    0    0    0    0    0    0 5171    0    3]\n",
      " [   0    0    0    1    0    0    0    0 4811    0]\n",
      " [   0    0    0    1    2    1    0    2    2 4909]]\n",
      "validation accuracy 0.9444285714285714\n",
      "[[2017    0    8    7    4   20   17    5    5    8]\n",
      " [   1 2338   12   11    5    5    5   15   11    7]\n",
      " [   5   15 2012   44   12   10    6   31   33   13]\n",
      " [   1    7   16 2007    3   52    2    4   31   16]\n",
      " [   6    4   15    5 1932   10   10   16   16   56]\n",
      " [   5    2    3   43    4 1818   34    2   32   16]\n",
      " [   8    4   10    4   12   21 2015    0   19    1]\n",
      " [   0    2   22   12    8    1    0 2000   11   29]\n",
      " [   9    2   16   30   10   27    9    8 1828   28]\n",
      " [   2    0    7    9   39   16    2   37   26 1866]]\n"
     ]
    }
   ],
   "source": [
    "model = RandomForestClassifier()\n",
    "model.fit(x_train, y_train)\n",
    "training_score = model.score(x_train, y_train)\n",
    "test_score = model.score(x_test, y_test)\n",
    "\n",
    "print(\"training accuracy\", training_score)\n",
    "print(confusion_matrix(model.predict(x_train), y_train))\n",
    "\n",
    "print(\"validation accuracy\", test_score)\n",
    "print(confusion_matrix(model.predict(x_test), y_test))\n",
    "\n",
    "# raise NotImplementedError()"
   ]
  },
  {
   "cell_type": "code",
   "execution_count": 41,
   "metadata": {
    "deletable": false,
    "editable": false,
    "nbgrader": {
     "cell_type": "code",
     "checksum": "10a7437f89e71f896c0b463b64cdfd7b",
     "grade": true,
     "grade_id": "cell-0d5a87fccfa891dc",
     "locked": true,
     "points": 7,
     "schema_version": 3,
     "solution": false,
     "task": false
    }
   },
   "outputs": [],
   "source": [
    "np.testing.assert_almost_equal(training_score, 0.999, decimal=2)\n",
    "np.testing.assert_almost_equal(test_score, 0.944, decimal=2)"
   ]
  },
  {
   "cell_type": "code",
   "execution_count": null,
   "metadata": {},
   "outputs": [],
   "source": []
  }
 ],
 "metadata": {
  "kernelspec": {
   "display_name": "Python 3",
   "language": "python",
   "name": "python3"
  },
  "language_info": {
   "codemirror_mode": {
    "name": "ipython",
    "version": 3
   },
   "file_extension": ".py",
   "mimetype": "text/x-python",
   "name": "python",
   "nbconvert_exporter": "python",
   "pygments_lexer": "ipython3",
   "version": "3.7.3"
  }
 },
 "nbformat": 4,
 "nbformat_minor": 2
}
