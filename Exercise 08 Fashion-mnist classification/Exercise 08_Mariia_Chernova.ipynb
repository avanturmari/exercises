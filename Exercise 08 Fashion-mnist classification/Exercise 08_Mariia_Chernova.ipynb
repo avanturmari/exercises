{
 "cells": [
  {
   "cell_type": "markdown",
   "metadata": {
    "ExecuteTime": {
     "end_time": "2020-03-08T14:51:46.498711Z",
     "start_time": "2020-03-08T14:51:46.496374Z"
    }
   },
   "source": [
    "# Assignment: Exercise 08: Fashion-mnist classification"
   ]
  },
  {
   "cell_type": "markdown",
   "metadata": {},
   "source": [
    "The traditional MNIST dataset is considered to be too easy to be used as a case for evaluating model performance. A new dataset with more complex images has been made available and is getting popular. See https://github.com/zalandoresearch/fashion-mnist for details about the data set.\n",
    "\n",
    "Download fashion-mnist and train a sequential dense model for it (note that fashion MNIST is available in keras.datasets like the original MNIST). Make sure to study the data, plot some images from it etc. to get familiar with the data set. Compare the accuracy you achieve vs. the accuracy achieved in standard mnist example. Analyze model behaviour by plotting loss/accuracy diagrams and confusion matrix.\n",
    "Note: deep doesn’t mean 100’s of layers. Start with small network."
   ]
  },
  {
   "cell_type": "code",
   "execution_count": 2,
   "metadata": {
    "ExecuteTime": {
     "end_time": "2020-03-09T19:43:13.711517Z",
     "start_time": "2020-03-09T19:43:13.697137Z"
    }
   },
   "outputs": [],
   "source": [
    "import numpy as np\n",
    "import keras\n",
    "from sklearn.preprocessing import StandardScaler\n",
    "from sklearn.model_selection import train_test_split\n",
    "from sklearn.metrics import r2_score\n",
    "import matplotlib.pyplot as plt\n",
    "from sklearn.metrics import confusion_matrix\n",
    "from sklearn.preprocessing import StandardScaler\n",
    "from numpy import argmax\n",
    "from keras.datasets import mnist"
   ]
  },
  {
   "cell_type": "code",
   "execution_count": 3,
   "metadata": {
    "ExecuteTime": {
     "end_time": "2020-03-09T19:43:13.766919Z",
     "start_time": "2020-03-09T19:43:13.735312Z"
    }
   },
   "outputs": [],
   "source": [
    "def plot_loss_function(hist):\n",
    "    plt.plot(range(1, len(hist.history['loss']) + 1), hist.history['loss'], 'b')\n",
    "    plt.plot(range(1, len(hist.history['val_loss']) + 1), hist.history['val_loss'], 'r')\n",
    "    plt.xlabel(\"Epoch\")\n",
    "    plt.ylabel(\"Loss\")\n",
    "    plt.legend([\"Training loss\", \"Validation loss\"])\n",
    "    plt.title(\"Loss function diagram\")\n",
    "    plt.show()\n",
    "    \n",
    "def plot_accuracy_function(hist):\n",
    "    plt.plot(range(1, len(hist.history['acc']) + 1), hist.history['acc'], 'b')\n",
    "    plt.plot(range(1, len(hist.history['val_acc']) + 1), hist.history['val_acc'], 'r')\n",
    "    plt.xlabel(\"Epoch\")\n",
    "    plt.ylabel(\"Accuracy\")\n",
    "    plt.legend([\"Training accuracy\", \"Validation accuracy\"])\n",
    "    plt.title(\"Accuracy function diagram\")\n",
    "    plt.show()"
   ]
  },
  {
   "cell_type": "markdown",
   "metadata": {},
   "source": [
    "# Download and explore Fashion-mnist dataset"
   ]
  },
  {
   "cell_type": "code",
   "execution_count": 4,
   "metadata": {
    "ExecuteTime": {
     "end_time": "2020-03-09T19:43:14.858227Z",
     "start_time": "2020-03-09T19:43:13.786232Z"
    }
   },
   "outputs": [
    {
     "name": "stdout",
     "output_type": "stream",
     "text": [
      "x_train.shape (60000, 28, 28)\n",
      "y_train.shape (60000,)\n",
      "x_test.shape (10000, 28, 28)\n",
      "y_test.shape (10000,)\n"
     ]
    }
   ],
   "source": [
    "(x_train, y_train), (x_test, y_test) = mnist.load_data()\n",
    "print(\"x_train.shape\", x_train.shape)\n",
    "print(\"y_train.shape\", y_train.shape)\n",
    "print(\"x_test.shape\", x_test.shape)\n",
    "print(\"y_test.shape\", y_test.shape)"
   ]
  },
  {
   "cell_type": "markdown",
   "metadata": {},
   "source": [
    "Check feature values"
   ]
  },
  {
   "cell_type": "code",
   "execution_count": 5,
   "metadata": {
    "ExecuteTime": {
     "end_time": "2020-03-09T19:43:14.995581Z",
     "start_time": "2020-03-09T19:43:14.884636Z"
    }
   },
   "outputs": [
    {
     "name": "stdout",
     "output_type": "stream",
     "text": [
      "x min: 0\n",
      "x max: 255\n"
     ]
    }
   ],
   "source": [
    "print(\"x min: \" + str(x_train.reshape(-1).min()))\n",
    "print(\"x max: \" + str(x_train.reshape(-1).max()))"
   ]
  },
  {
   "cell_type": "markdown",
   "metadata": {},
   "source": [
    "Check distribution of labels"
   ]
  },
  {
   "cell_type": "code",
   "execution_count": 6,
   "metadata": {
    "ExecuteTime": {
     "end_time": "2020-03-09T19:43:15.345984Z",
     "start_time": "2020-03-09T19:43:15.023761Z"
    }
   },
   "outputs": [
    {
     "data": {
      "image/png": "[encoded data removed]",
      "text/plain": [
       "<matplotlib.figure.Figure at 0x1a2991d4e0>"
      ]
     },
     "metadata": {},
     "output_type": "display_data"
    }
   ],
   "source": [
    "plt.hist(y_train, bins='auto')\n",
    "plt.xticks(range(10))\n",
    "plt.title(\"Distribution of Labels. Training Data\")\n",
    "plt.xlabel(\"label\")\n",
    "plt.ylabel(\"amount\");"
   ]
  },
  {
   "cell_type": "markdown",
   "metadata": {},
   "source": [
    "Visualize example image data"
   ]
  },
  {
   "cell_type": "code",
   "execution_count": 7,
   "metadata": {
    "ExecuteTime": {
     "end_time": "2020-03-09T19:43:16.086345Z",
     "start_time": "2020-03-09T19:43:15.363253Z"
    }
   },
   "outputs": [
    {
     "data": {
      "image/png": "[encoded data removed]",
      "text/plain": [
       "<matplotlib.figure.Figure at 0x1a2d121c18>"
      ]
     },
     "metadata": {},
     "output_type": "display_data"
    }
   ],
   "source": [
    "fig, ax = plt.subplots(2,5)\n",
    "ax = ax.flatten()\n",
    "\n",
    "for i in range(10):\n",
    "    im_idx = np.argwhere(y_train == i).reshape(-1)[0]\n",
    "    plottable_image = np.reshape(x_train[im_idx], (28, 28))\n",
    "    ax[i].imshow(plottable_image, cmap='gray_r')"
   ]
  },
  {
   "cell_type": "markdown",
   "metadata": {},
   "source": [
    "Let's normalize our data"
   ]
  },
  {
   "cell_type": "code",
   "execution_count": 8,
   "metadata": {
    "ExecuteTime": {
     "end_time": "2020-03-09T19:43:33.542460Z",
     "start_time": "2020-03-09T19:43:33.230216Z"
    }
   },
   "outputs": [
    {
     "name": "stdout",
     "output_type": "stream",
     "text": [
      "scaled_x_train.shape (60000, 784)\n",
      "y_train_1hot.shape (60000, 10)\n",
      "scaled_x_test.shape (10000, 784)\n",
      "y_test_1hot.shape (10000, 10)\n"
     ]
    }
   ],
   "source": [
    "scaled_x_train = x_train.reshape(x_train.shape[0], -1) / 255\n",
    "scaled_x_test = x_test.reshape(x_test.shape[0], -1) / 255\n",
    "\n",
    "y_train_1hot = keras.utils.to_categorical(y_train)\n",
    "y_test_1hot = keras.utils.to_categorical(y_test)\n",
    "\n",
    "print(\"scaled_x_train.shape\", scaled_x_train.shape)\n",
    "print(\"y_train_1hot.shape\", y_train_1hot.shape)\n",
    "print(\"scaled_x_test.shape\", scaled_x_test.shape)\n",
    "print(\"y_test_1hot.shape\", y_test_1hot.shape)"
   ]
  },
  {
   "cell_type": "markdown",
   "metadata": {
    "ExecuteTime": {
     "end_time": "2020-03-08T15:05:44.398089Z",
     "start_time": "2020-03-08T15:05:44.395063Z"
    }
   },
   "source": [
    "# 1-layer network"
   ]
  },
  {
   "cell_type": "markdown",
   "metadata": {},
   "source": [
    "## Build&train model. 1-layer network"
   ]
  },
  {
   "cell_type": "code",
   "execution_count": 9,
   "metadata": {
    "ExecuteTime": {
     "end_time": "2020-03-09T19:43:46.428287Z",
     "start_time": "2020-03-09T19:43:46.267097Z"
    }
   },
   "outputs": [
    {
     "name": "stdout",
     "output_type": "stream",
     "text": [
      "WARNING:tensorflow:From /anaconda3/lib/python3.6/site-packages/tensorflow/python/ops/resource_variable_ops.py:435: colocate_with (from tensorflow.python.framework.ops) is deprecated and will be removed in a future version.\n",
      "Instructions for updating:\n",
      "Colocations handled automatically by placer.\n",
      "Model: \"sequential_1\"\n",
      "_________________________________________________________________\n",
      "Layer (type)                 Output Shape              Param #   \n",
      "=================================================================\n",
      "dense_1 (Dense)              (None, 10)                7850      \n",
      "=================================================================\n",
      "Total params: 7,850\n",
      "Trainable params: 7,850\n",
      "Non-trainable params: 0\n",
      "_________________________________________________________________\n"
     ]
    }
   ],
   "source": [
    "model = keras.models.Sequential()\n",
    "model.add(keras.layers.Dense(10, input_shape=(scaled_x_train.shape[1],), activation='softmax'))\n",
    "model.compile(optimizer='sgd', loss='categorical_crossentropy', metrics=['acc'])\n",
    "model.summary()"
   ]
  },
  {
   "cell_type": "markdown",
   "metadata": {},
   "source": [
    "Train model"
   ]
  },
  {
   "cell_type": "code",
   "execution_count": 10,
   "metadata": {
    "ExecuteTime": {
     "end_time": "2020-03-09T19:45:48.016428Z",
     "start_time": "2020-03-09T19:43:51.644395Z"
    },
    "scrolled": true
   },
   "outputs": [
    {
     "name": "stdout",
     "output_type": "stream",
     "text": [
      "WARNING:tensorflow:From /anaconda3/lib/python3.6/site-packages/tensorflow/python/ops/math_ops.py:3066: to_int32 (from tensorflow.python.ops.math_ops) is deprecated and will be removed in a future version.\n",
      "Instructions for updating:\n",
      "Use tf.cast instead.\n",
      "Train on 60000 samples, validate on 10000 samples\n",
      "Epoch 1/100\n",
      "60000/60000 [==============================] - 2s 34us/step - loss: 1.0167 - acc: 0.7617 - val_loss: 0.6078 - val_acc: 0.8616\n",
      "Epoch 2/100\n",
      "60000/60000 [==============================] - 1s 20us/step - loss: 0.5564 - acc: 0.8643 - val_loss: 0.4794 - val_acc: 0.8838\n",
      "Epoch 3/100\n",
      "60000/60000 [==============================] - 1s 20us/step - loss: 0.4745 - acc: 0.8786 - val_loss: 0.4281 - val_acc: 0.8911\n",
      "Epoch 4/100\n",
      "60000/60000 [==============================] - 1s 21us/step - loss: 0.4350 - acc: 0.8847 - val_loss: 0.3992 - val_acc: 0.8950\n",
      "Epoch 5/100\n",
      "60000/60000 [==============================] - 1s 18us/step - loss: 0.4106 - acc: 0.8899 - val_loss: 0.3808 - val_acc: 0.8992\n",
      "Epoch 6/100\n",
      "60000/60000 [==============================] - 1s 18us/step - loss: 0.3935 - acc: 0.8932 - val_loss: 0.3669 - val_acc: 0.9026\n",
      "Epoch 7/100\n",
      "60000/60000 [==============================] - 1s 16us/step - loss: 0.3807 - acc: 0.8957 - val_loss: 0.3561 - val_acc: 0.9048\n",
      "Epoch 8/100\n",
      "60000/60000 [==============================] - 1s 17us/step - loss: 0.3707 - acc: 0.8984 - val_loss: 0.3482 - val_acc: 0.9067\n",
      "Epoch 9/100\n",
      "60000/60000 [==============================] - 1s 18us/step - loss: 0.3625 - acc: 0.8999 - val_loss: 0.3414 - val_acc: 0.9080\n",
      "Epoch 10/100\n",
      "60000/60000 [==============================] - 1s 17us/step - loss: 0.3556 - acc: 0.9014 - val_loss: 0.3355 - val_acc: 0.9102\n",
      "Epoch 11/100\n",
      "60000/60000 [==============================] - 1s 17us/step - loss: 0.3498 - acc: 0.9032 - val_loss: 0.3311 - val_acc: 0.9109\n",
      "Epoch 12/100\n",
      "60000/60000 [==============================] - 1s 20us/step - loss: 0.3448 - acc: 0.9043 - val_loss: 0.3274 - val_acc: 0.9099\n",
      "Epoch 13/100\n",
      "60000/60000 [==============================] - 1s 18us/step - loss: 0.3404 - acc: 0.9054 - val_loss: 0.3236 - val_acc: 0.9116\n",
      "Epoch 14/100\n",
      "60000/60000 [==============================] - 1s 19us/step - loss: 0.3364 - acc: 0.9065 - val_loss: 0.3196 - val_acc: 0.9119\n",
      "Epoch 15/100\n",
      "60000/60000 [==============================] - 1s 17us/step - loss: 0.3329 - acc: 0.9074 - val_loss: 0.3171 - val_acc: 0.9126\n",
      "Epoch 16/100\n",
      "60000/60000 [==============================] - 1s 17us/step - loss: 0.3297 - acc: 0.9082 - val_loss: 0.3143 - val_acc: 0.9126\n",
      "Epoch 17/100\n",
      "60000/60000 [==============================] - 1s 20us/step - loss: 0.3268 - acc: 0.9088 - val_loss: 0.3124 - val_acc: 0.9141\n",
      "Epoch 18/100\n",
      "60000/60000 [==============================] - 1s 20us/step - loss: 0.3242 - acc: 0.9096 - val_loss: 0.3099 - val_acc: 0.9140\n",
      "Epoch 19/100\n",
      "60000/60000 [==============================] - 1s 18us/step - loss: 0.3217 - acc: 0.9102 - val_loss: 0.3078 - val_acc: 0.9144\n",
      "Epoch 20/100\n",
      "60000/60000 [==============================] - 1s 18us/step - loss: 0.3194 - acc: 0.9109 - val_loss: 0.3058 - val_acc: 0.9155\n",
      "Epoch 21/100\n",
      "60000/60000 [==============================] - 1s 17us/step - loss: 0.3174 - acc: 0.9116 - val_loss: 0.3043 - val_acc: 0.9152\n",
      "Epoch 22/100\n",
      "60000/60000 [==============================] - 1s 18us/step - loss: 0.3155 - acc: 0.9121 - val_loss: 0.3031 - val_acc: 0.9155\n",
      "Epoch 23/100\n",
      "60000/60000 [==============================] - 1s 20us/step - loss: 0.3136 - acc: 0.9132 - val_loss: 0.3013 - val_acc: 0.9163\n",
      "Epoch 24/100\n",
      "60000/60000 [==============================] - 1s 19us/step - loss: 0.3119 - acc: 0.9136 - val_loss: 0.3001 - val_acc: 0.9165\n",
      "Epoch 25/100\n",
      "60000/60000 [==============================] - 1s 21us/step - loss: 0.3103 - acc: 0.9140 - val_loss: 0.2987 - val_acc: 0.9162\n",
      "Epoch 26/100\n",
      "60000/60000 [==============================] - 1s 18us/step - loss: 0.3089 - acc: 0.9146 - val_loss: 0.2978 - val_acc: 0.9170\n",
      "Epoch 27/100\n",
      "60000/60000 [==============================] - 1s 20us/step - loss: 0.3074 - acc: 0.9149 - val_loss: 0.2965 - val_acc: 0.9170\n",
      "Epoch 28/100\n",
      "60000/60000 [==============================] - 1s 19us/step - loss: 0.3060 - acc: 0.9158 - val_loss: 0.2956 - val_acc: 0.9170\n",
      "Epoch 29/100\n",
      "60000/60000 [==============================] - 1s 18us/step - loss: 0.3048 - acc: 0.9155 - val_loss: 0.2947 - val_acc: 0.9177\n",
      "Epoch 30/100\n",
      "60000/60000 [==============================] - 1s 17us/step - loss: 0.3035 - acc: 0.9160 - val_loss: 0.2938 - val_acc: 0.9178\n",
      "Epoch 31/100\n",
      "60000/60000 [==============================] - 1s 16us/step - loss: 0.3024 - acc: 0.9164 - val_loss: 0.2930 - val_acc: 0.9180\n",
      "Epoch 32/100\n",
      "60000/60000 [==============================] - 1s 18us/step - loss: 0.3013 - acc: 0.9165 - val_loss: 0.2922 - val_acc: 0.9178\n",
      "Epoch 33/100\n",
      "60000/60000 [==============================] - 1s 17us/step - loss: 0.3002 - acc: 0.9172 - val_loss: 0.2913 - val_acc: 0.9178\n",
      "Epoch 34/100\n",
      "60000/60000 [==============================] - 1s 20us/step - loss: 0.2992 - acc: 0.9170 - val_loss: 0.2911 - val_acc: 0.9175\n",
      "Epoch 35/100\n",
      "60000/60000 [==============================] - 1s 18us/step - loss: 0.2982 - acc: 0.9173 - val_loss: 0.2898 - val_acc: 0.9184\n",
      "Epoch 36/100\n",
      "60000/60000 [==============================] - 1s 19us/step - loss: 0.2973 - acc: 0.9176 - val_loss: 0.2893 - val_acc: 0.9178\n",
      "Epoch 37/100\n",
      "60000/60000 [==============================] - 1s 21us/step - loss: 0.2964 - acc: 0.9179 - val_loss: 0.2885 - val_acc: 0.9190\n",
      "Epoch 38/100\n",
      "60000/60000 [==============================] - 2s 25us/step - loss: 0.2956 - acc: 0.9179 - val_loss: 0.2885 - val_acc: 0.9192\n",
      "Epoch 39/100\n",
      "60000/60000 [==============================] - 1s 23us/step - loss: 0.2947 - acc: 0.9180 - val_loss: 0.2875 - val_acc: 0.9191\n",
      "Epoch 40/100\n",
      "60000/60000 [==============================] - 1s 20us/step - loss: 0.2939 - acc: 0.9182 - val_loss: 0.2868 - val_acc: 0.9198\n",
      "Epoch 41/100\n",
      "60000/60000 [==============================] - 1s 20us/step - loss: 0.2932 - acc: 0.9183 - val_loss: 0.2865 - val_acc: 0.9206\n",
      "Epoch 42/100\n",
      "60000/60000 [==============================] - 1s 21us/step - loss: 0.2924 - acc: 0.9188 - val_loss: 0.2857 - val_acc: 0.9202\n",
      "Epoch 43/100\n",
      "60000/60000 [==============================] - 1s 19us/step - loss: 0.2918 - acc: 0.9192 - val_loss: 0.2854 - val_acc: 0.9200\n",
      "Epoch 44/100\n",
      "60000/60000 [==============================] - 1s 19us/step - loss: 0.2911 - acc: 0.9189 - val_loss: 0.2847 - val_acc: 0.9208\n",
      "Epoch 45/100\n",
      "60000/60000 [==============================] - 1s 19us/step - loss: 0.2904 - acc: 0.9194 - val_loss: 0.2846 - val_acc: 0.9205\n",
      "Epoch 46/100\n",
      "60000/60000 [==============================] - 2s 30us/step - loss: 0.2897 - acc: 0.9198 - val_loss: 0.2844 - val_acc: 0.9195\n",
      "Epoch 47/100\n",
      "60000/60000 [==============================] - 1s 17us/step - loss: 0.2891 - acc: 0.9195 - val_loss: 0.2833 - val_acc: 0.9206\n",
      "Epoch 48/100\n",
      "60000/60000 [==============================] - 1s 16us/step - loss: 0.2884 - acc: 0.9201 - val_loss: 0.2836 - val_acc: 0.9205\n",
      "Epoch 49/100\n",
      "60000/60000 [==============================] - 1s 15us/step - loss: 0.2879 - acc: 0.9196 - val_loss: 0.2832 - val_acc: 0.9204\n",
      "Epoch 50/100\n",
      "60000/60000 [==============================] - 1s 15us/step - loss: 0.2873 - acc: 0.9201 - val_loss: 0.2826 - val_acc: 0.9207\n",
      "Epoch 51/100\n",
      "60000/60000 [==============================] - 1s 22us/step - loss: 0.2868 - acc: 0.9203 - val_loss: 0.2821 - val_acc: 0.9213\n",
      "Epoch 52/100\n",
      "60000/60000 [==============================] - 1s 24us/step - loss: 0.2862 - acc: 0.9206 - val_loss: 0.2818 - val_acc: 0.9210\n",
      "Epoch 53/100\n",
      "60000/60000 [==============================] - 1s 16us/step - loss: 0.2857 - acc: 0.9207 - val_loss: 0.2818 - val_acc: 0.9212\n",
      "Epoch 54/100\n",
      "60000/60000 [==============================] - 1s 15us/step - loss: 0.2852 - acc: 0.9205 - val_loss: 0.2814 - val_acc: 0.9217\n",
      "Epoch 55/100\n",
      "60000/60000 [==============================] - 1s 14us/step - loss: 0.2847 - acc: 0.9207 - val_loss: 0.2807 - val_acc: 0.9207\n",
      "Epoch 56/100\n",
      "60000/60000 [==============================] - 1s 19us/step - loss: 0.2842 - acc: 0.9209 - val_loss: 0.2807 - val_acc: 0.9212\n",
      "Epoch 57/100\n",
      "60000/60000 [==============================] - 1s 19us/step - loss: 0.2837 - acc: 0.9211 - val_loss: 0.2805 - val_acc: 0.9213\n"
     ]
    },
    {
     "name": "stdout",
     "output_type": "stream",
     "text": [
      "Epoch 58/100\n",
      "60000/60000 [==============================] - 1s 19us/step - loss: 0.2833 - acc: 0.9214 - val_loss: 0.2799 - val_acc: 0.9213\n",
      "Epoch 59/100\n",
      "60000/60000 [==============================] - 2s 28us/step - loss: 0.2828 - acc: 0.9213 - val_loss: 0.2796 - val_acc: 0.9212\n",
      "Epoch 60/100\n",
      "60000/60000 [==============================] - 1s 22us/step - loss: 0.2823 - acc: 0.9219 - val_loss: 0.2798 - val_acc: 0.9212\n",
      "Epoch 61/100\n",
      "60000/60000 [==============================] - 2s 28us/step - loss: 0.2820 - acc: 0.9217 - val_loss: 0.2791 - val_acc: 0.9219\n",
      "Epoch 62/100\n",
      "60000/60000 [==============================] - 2s 27us/step - loss: 0.2815 - acc: 0.9219 - val_loss: 0.2789 - val_acc: 0.9213\n",
      "Epoch 63/100\n",
      "60000/60000 [==============================] - 1s 19us/step - loss: 0.2811 - acc: 0.9220 - val_loss: 0.2786 - val_acc: 0.9221\n",
      "Epoch 64/100\n",
      "60000/60000 [==============================] - 1s 21us/step - loss: 0.2807 - acc: 0.9220 - val_loss: 0.2785 - val_acc: 0.9222\n",
      "Epoch 65/100\n",
      "60000/60000 [==============================] - 1s 17us/step - loss: 0.2803 - acc: 0.9221 - val_loss: 0.2786 - val_acc: 0.9213\n",
      "Epoch 66/100\n",
      "60000/60000 [==============================] - 1s 17us/step - loss: 0.2800 - acc: 0.9222 - val_loss: 0.2779 - val_acc: 0.9217\n",
      "Epoch 67/100\n",
      "60000/60000 [==============================] - 1s 21us/step - loss: 0.2796 - acc: 0.9225 - val_loss: 0.2775 - val_acc: 0.9221\n",
      "Epoch 68/100\n",
      "60000/60000 [==============================] - 2s 29us/step - loss: 0.2791 - acc: 0.9223 - val_loss: 0.2772 - val_acc: 0.9222\n",
      "Epoch 69/100\n",
      "60000/60000 [==============================] - 1s 17us/step - loss: 0.2788 - acc: 0.9227 - val_loss: 0.2774 - val_acc: 0.9213\n",
      "Epoch 70/100\n",
      "60000/60000 [==============================] - 1s 17us/step - loss: 0.2784 - acc: 0.9226 - val_loss: 0.2770 - val_acc: 0.9222\n",
      "Epoch 71/100\n",
      "60000/60000 [==============================] - 1s 14us/step - loss: 0.2781 - acc: 0.9227 - val_loss: 0.2775 - val_acc: 0.9220\n",
      "Epoch 72/100\n",
      "60000/60000 [==============================] - 1s 17us/step - loss: 0.2778 - acc: 0.9229 - val_loss: 0.2771 - val_acc: 0.9218\n",
      "Epoch 73/100\n",
      "60000/60000 [==============================] - 2s 29us/step - loss: 0.2775 - acc: 0.9228 - val_loss: 0.2766 - val_acc: 0.9220\n",
      "Epoch 74/100\n",
      "60000/60000 [==============================] - 1s 22us/step - loss: 0.2771 - acc: 0.9229 - val_loss: 0.2766 - val_acc: 0.9222\n",
      "Epoch 75/100\n",
      "60000/60000 [==============================] - 1s 15us/step - loss: 0.2767 - acc: 0.9233 - val_loss: 0.2763 - val_acc: 0.9224\n",
      "Epoch 76/100\n",
      "60000/60000 [==============================] - 1s 16us/step - loss: 0.2765 - acc: 0.9231 - val_loss: 0.2762 - val_acc: 0.9221\n",
      "Epoch 77/100\n",
      "60000/60000 [==============================] - 1s 24us/step - loss: 0.2762 - acc: 0.9234 - val_loss: 0.2760 - val_acc: 0.9226\n",
      "Epoch 78/100\n",
      "60000/60000 [==============================] - 1s 22us/step - loss: 0.2759 - acc: 0.9231 - val_loss: 0.2754 - val_acc: 0.9221\n",
      "Epoch 79/100\n",
      "60000/60000 [==============================] - 2s 27us/step - loss: 0.2755 - acc: 0.9237 - val_loss: 0.2753 - val_acc: 0.9229\n",
      "Epoch 80/100\n",
      "60000/60000 [==============================] - 1s 16us/step - loss: 0.2752 - acc: 0.9235 - val_loss: 0.2756 - val_acc: 0.9224\n",
      "Epoch 81/100\n",
      "60000/60000 [==============================] - 1s 17us/step - loss: 0.2750 - acc: 0.9237 - val_loss: 0.2750 - val_acc: 0.9227\n",
      "Epoch 82/100\n",
      "60000/60000 [==============================] - 1s 16us/step - loss: 0.2746 - acc: 0.9236 - val_loss: 0.2749 - val_acc: 0.9227\n",
      "Epoch 83/100\n",
      "60000/60000 [==============================] - 1s 15us/step - loss: 0.2744 - acc: 0.9238 - val_loss: 0.2750 - val_acc: 0.9223\n",
      "Epoch 84/100\n",
      "60000/60000 [==============================] - 1s 15us/step - loss: 0.2741 - acc: 0.9240 - val_loss: 0.2745 - val_acc: 0.9224\n",
      "Epoch 85/100\n",
      "60000/60000 [==============================] - 1s 15us/step - loss: 0.2738 - acc: 0.9240 - val_loss: 0.2744 - val_acc: 0.9228\n",
      "Epoch 86/100\n",
      "60000/60000 [==============================] - 1s 19us/step - loss: 0.2736 - acc: 0.9244 - val_loss: 0.2746 - val_acc: 0.9226\n",
      "Epoch 87/100\n",
      "60000/60000 [==============================] - 1s 23us/step - loss: 0.2733 - acc: 0.9242 - val_loss: 0.2742 - val_acc: 0.9230\n",
      "Epoch 88/100\n",
      "60000/60000 [==============================] - 1s 21us/step - loss: 0.2730 - acc: 0.9244 - val_loss: 0.2746 - val_acc: 0.9222\n",
      "Epoch 89/100\n",
      "60000/60000 [==============================] - 1s 19us/step - loss: 0.2728 - acc: 0.9243 - val_loss: 0.2737 - val_acc: 0.9227\n",
      "Epoch 90/100\n",
      "60000/60000 [==============================] - 1s 21us/step - loss: 0.2725 - acc: 0.9243 - val_loss: 0.2736 - val_acc: 0.9231\n",
      "Epoch 91/100\n",
      "60000/60000 [==============================] - 1s 20us/step - loss: 0.2723 - acc: 0.9245 - val_loss: 0.2738 - val_acc: 0.9228\n",
      "Epoch 92/100\n",
      "60000/60000 [==============================] - 1s 19us/step - loss: 0.2720 - acc: 0.9247 - val_loss: 0.2736 - val_acc: 0.9229\n",
      "Epoch 93/100\n",
      "60000/60000 [==============================] - 1s 18us/step - loss: 0.2719 - acc: 0.9247 - val_loss: 0.2737 - val_acc: 0.9232\n",
      "Epoch 94/100\n",
      "60000/60000 [==============================] - 1s 19us/step - loss: 0.2716 - acc: 0.9248 - val_loss: 0.2740 - val_acc: 0.9225\n",
      "Epoch 95/100\n",
      "60000/60000 [==============================] - 1s 16us/step - loss: 0.2714 - acc: 0.9247 - val_loss: 0.2733 - val_acc: 0.9228\n",
      "Epoch 96/100\n",
      "60000/60000 [==============================] - 1s 18us/step - loss: 0.2711 - acc: 0.9250 - val_loss: 0.2729 - val_acc: 0.9233\n",
      "Epoch 97/100\n",
      "60000/60000 [==============================] - 1s 18us/step - loss: 0.2709 - acc: 0.9249 - val_loss: 0.2733 - val_acc: 0.9230\n",
      "Epoch 98/100\n",
      "60000/60000 [==============================] - 1s 17us/step - loss: 0.2707 - acc: 0.9249 - val_loss: 0.2728 - val_acc: 0.9234\n",
      "Epoch 99/100\n",
      "60000/60000 [==============================] - 1s 19us/step - loss: 0.2705 - acc: 0.9250 - val_loss: 0.2731 - val_acc: 0.9236\n",
      "Epoch 100/100\n",
      "60000/60000 [==============================] - 1s 17us/step - loss: 0.2703 - acc: 0.9253 - val_loss: 0.2724 - val_acc: 0.9230\n"
     ]
    }
   ],
   "source": [
    "hist = model.fit(scaled_x_train, y_train_1hot, epochs=100, batch_size=64, validation_data=(scaled_x_test, y_test_1hot))"
   ]
  },
  {
   "cell_type": "markdown",
   "metadata": {},
   "source": [
    "## Model behaviour. 1-layer network"
   ]
  },
  {
   "cell_type": "code",
   "execution_count": 11,
   "metadata": {
    "ExecuteTime": {
     "end_time": "2020-03-09T19:45:48.227966Z",
     "start_time": "2020-03-09T19:45:48.043551Z"
    }
   },
   "outputs": [
    {
     "data": {
      "image/png": "[encoded data removed]",
      "text/plain": [
       "<matplotlib.figure.Figure at 0x1a2d3e5908>"
      ]
     },
     "metadata": {},
     "output_type": "display_data"
    }
   ],
   "source": [
    "plot_loss_function(hist)"
   ]
  },
  {
   "cell_type": "code",
   "execution_count": 12,
   "metadata": {
    "ExecuteTime": {
     "end_time": "2020-03-09T19:45:48.422523Z",
     "start_time": "2020-03-09T19:45:48.265349Z"
    }
   },
   "outputs": [
    {
     "data": {
      "image/png": "[encoded data removed]",
      "text/plain": [
       "<matplotlib.figure.Figure at 0x106aaaa90>"
      ]
     },
     "metadata": {},
     "output_type": "display_data"
    }
   ],
   "source": [
    "plot_accuracy_function(hist)"
   ]
  },
  {
   "cell_type": "code",
   "execution_count": 13,
   "metadata": {
    "ExecuteTime": {
     "end_time": "2020-03-09T19:45:48.464220Z",
     "start_time": "2020-03-09T19:45:48.454502Z"
    }
   },
   "outputs": [
    {
     "name": "stdout",
     "output_type": "stream",
     "text": [
      "Accuracy train: 0.9253\n",
      "Accuracy validation: 0.9229999780654907\n"
     ]
    }
   ],
   "source": [
    "print(\"Accuracy train: \" + str(hist.history['acc'][-1]))\n",
    "print(\"Accuracy validation: \" + str(hist.history['val_acc'][-1]))"
   ]
  },
  {
   "cell_type": "code",
   "execution_count": 14,
   "metadata": {
    "ExecuteTime": {
     "end_time": "2020-03-09T19:45:49.181074Z",
     "start_time": "2020-03-09T19:45:48.505708Z"
    }
   },
   "outputs": [
    {
     "name": "stdout",
     "output_type": "stream",
     "text": [
      "Confusion matrix. Training data\n",
      "[[5742    1   29   18   14   65   30   20   27   29]\n",
      " [   1 6558   59   24   32   30   16   31  114   32]\n",
      " [  20   34 5375  133   32   48   40   74   62   16]\n",
      " [  10   18   82 5513    7  176    2   18  137   78]\n",
      " [  13    6   83    6 5460   62   46   51   29  156]\n",
      " [  40   29   27  190    3 4742   67    9  137   35]\n",
      " [  41    8   68   24   57   95 5679    4   44    2]\n",
      " [   7   16   84   65   17   22    3 5876   17  178]\n",
      " [  44   63  128  105   36  127   33   13 5210   45]\n",
      " [   5    9   23   53  184   54    2  169   74 5378]]\n",
      "\n",
      "Confusion matrix. Testing data\n",
      "[[ 959    0    5    3    1    9   12    1    7   10]\n",
      " [   0 1110    8    0    2    3    3    6    7    7]\n",
      " [   3    2  926   22    4    3    4   22    7    2]\n",
      " [   2    2   14  919    1   34    2    9   22   10]\n",
      " [   0    0   10    0  914    9    9    6    9   30]\n",
      " [   4    1    6   26    0  769   11    1   25    7]\n",
      " [   9    4   11    2   12   19  911    0   10    0]\n",
      " [   1    2    9   12    3    7    3  949   12   30]\n",
      " [   2   14   37   18    9   32    3    2  868    8]\n",
      " [   0    0    6    8   36    7    0   32    7  905]]\n"
     ]
    }
   ],
   "source": [
    "print(\"Confusion matrix. Training data\")\n",
    "y_train_predictions = argmax(model.predict(scaled_x_train), 1)\n",
    "print(confusion_matrix(y_train_predictions, y_train))\n",
    "\n",
    "print(\"\\nConfusion matrix. Testing data\")\n",
    "y_test_predictions = argmax(model.predict(scaled_x_test), 1)\n",
    "print(confusion_matrix(y_test_predictions, y_test))"
   ]
  },
  {
   "cell_type": "markdown",
   "metadata": {
    "ExecuteTime": {
     "end_time": "2020-03-08T21:09:13.691509Z",
     "start_time": "2020-03-08T21:09:13.689028Z"
    }
   },
   "source": [
    "# Dense network"
   ]
  },
  {
   "cell_type": "markdown",
   "metadata": {
    "ExecuteTime": {
     "end_time": "2020-03-08T21:22:18.069542Z",
     "start_time": "2020-03-08T21:22:18.065376Z"
    }
   },
   "source": [
    "## Build&train model. Dense network"
   ]
  },
  {
   "cell_type": "code",
   "execution_count": 15,
   "metadata": {
    "ExecuteTime": {
     "end_time": "2020-03-09T19:45:49.334585Z",
     "start_time": "2020-03-09T19:45:49.212687Z"
    }
   },
   "outputs": [
    {
     "name": "stdout",
     "output_type": "stream",
     "text": [
      "Model: \"sequential_2\"\n",
      "_________________________________________________________________\n",
      "Layer (type)                 Output Shape              Param #   \n",
      "=================================================================\n",
      "dense_2 (Dense)              (None, 500)               392500    \n",
      "_________________________________________________________________\n",
      "dense_3 (Dense)              (None, 250)               125250    \n",
      "_________________________________________________________________\n",
      "dense_4 (Dense)              (None, 50)                12550     \n",
      "_________________________________________________________________\n",
      "dense_5 (Dense)              (None, 10)                510       \n",
      "=================================================================\n",
      "Total params: 530,810\n",
      "Trainable params: 530,810\n",
      "Non-trainable params: 0\n",
      "_________________________________________________________________\n"
     ]
    }
   ],
   "source": [
    "model = keras.models.Sequential()\n",
    "model.add(keras.layers.Dense(500, input_shape=(scaled_x_test.shape[1],), activation='relu'))\n",
    "model.add(keras.layers.Dense(250, activation='relu'))\n",
    "model.add(keras.layers.Dense(50, activation='relu'))\n",
    "model.add(keras.layers.Dense(10, activation='softmax'))\n",
    "model.compile(optimizer='sgd', loss='categorical_crossentropy', metrics=['acc'])\n",
    "model.summary()"
   ]
  },
  {
   "cell_type": "markdown",
   "metadata": {},
   "source": [
    "Train model"
   ]
  },
  {
   "cell_type": "code",
   "execution_count": 16,
   "metadata": {
    "ExecuteTime": {
     "end_time": "2020-03-09T19:49:27.840940Z",
     "start_time": "2020-03-09T19:45:49.360633Z"
    },
    "scrolled": true
   },
   "outputs": [
    {
     "name": "stdout",
     "output_type": "stream",
     "text": [
      "Train on 60000 samples, validate on 10000 samples\n",
      "Epoch 1/50\n",
      "60000/60000 [==============================] - 5s 80us/step - loss: 0.7896 - acc: 0.7943 - val_loss: 0.3411 - val_acc: 0.9052\n",
      "Epoch 2/50\n",
      "60000/60000 [==============================] - 5s 81us/step - loss: 0.3104 - acc: 0.9120 - val_loss: 0.2597 - val_acc: 0.9265\n",
      "Epoch 3/50\n",
      "60000/60000 [==============================] - 4s 69us/step - loss: 0.2500 - acc: 0.9282 - val_loss: 0.2242 - val_acc: 0.9351\n",
      "Epoch 4/50\n",
      "60000/60000 [==============================] - 4s 69us/step - loss: 0.2135 - acc: 0.9389 - val_loss: 0.1979 - val_acc: 0.9420\n",
      "Epoch 5/50\n",
      "60000/60000 [==============================] - 4s 70us/step - loss: 0.1866 - acc: 0.9469 - val_loss: 0.1711 - val_acc: 0.9497\n",
      "Epoch 6/50\n",
      "60000/60000 [==============================] - 4s 72us/step - loss: 0.1647 - acc: 0.9529 - val_loss: 0.1547 - val_acc: 0.9545\n",
      "Epoch 7/50\n",
      "60000/60000 [==============================] - 4s 70us/step - loss: 0.1474 - acc: 0.9582 - val_loss: 0.1401 - val_acc: 0.9599\n",
      "Epoch 8/50\n",
      "60000/60000 [==============================] - 4s 71us/step - loss: 0.1330 - acc: 0.9616 - val_loss: 0.1355 - val_acc: 0.9595\n",
      "Epoch 9/50\n",
      "60000/60000 [==============================] - 4s 71us/step - loss: 0.1210 - acc: 0.9649 - val_loss: 0.1241 - val_acc: 0.9628\n",
      "Epoch 10/50\n",
      "60000/60000 [==============================] - 4s 71us/step - loss: 0.1103 - acc: 0.9683 - val_loss: 0.1143 - val_acc: 0.9667\n",
      "Epoch 11/50\n",
      "60000/60000 [==============================] - 4s 68us/step - loss: 0.1010 - acc: 0.9711 - val_loss: 0.1065 - val_acc: 0.9688\n",
      "Epoch 12/50\n",
      "60000/60000 [==============================] - 4s 69us/step - loss: 0.0930 - acc: 0.9733 - val_loss: 0.1026 - val_acc: 0.9693\n",
      "Epoch 13/50\n",
      "60000/60000 [==============================] - 4s 74us/step - loss: 0.0858 - acc: 0.9756 - val_loss: 0.0967 - val_acc: 0.9708\n",
      "Epoch 14/50\n",
      "60000/60000 [==============================] - 4s 71us/step - loss: 0.0793 - acc: 0.9775 - val_loss: 0.0947 - val_acc: 0.9715\n",
      "Epoch 15/50\n",
      "60000/60000 [==============================] - 4s 73us/step - loss: 0.0737 - acc: 0.9795 - val_loss: 0.0944 - val_acc: 0.9696\n",
      "Epoch 16/50\n",
      "60000/60000 [==============================] - 4s 74us/step - loss: 0.0686 - acc: 0.9808 - val_loss: 0.0878 - val_acc: 0.9729\n",
      "Epoch 17/50\n",
      "60000/60000 [==============================] - 4s 74us/step - loss: 0.0638 - acc: 0.9815 - val_loss: 0.0861 - val_acc: 0.9732\n",
      "Epoch 18/50\n",
      "60000/60000 [==============================] - 4s 72us/step - loss: 0.0598 - acc: 0.9834 - val_loss: 0.0803 - val_acc: 0.9736\n",
      "Epoch 19/50\n",
      "60000/60000 [==============================] - 4s 73us/step - loss: 0.0556 - acc: 0.9844 - val_loss: 0.0791 - val_acc: 0.9757\n",
      "Epoch 20/50\n",
      "60000/60000 [==============================] - 4s 73us/step - loss: 0.0524 - acc: 0.9857 - val_loss: 0.0776 - val_acc: 0.9761\n",
      "Epoch 21/50\n",
      "60000/60000 [==============================] - 4s 72us/step - loss: 0.0488 - acc: 0.9872 - val_loss: 0.0768 - val_acc: 0.9765\n",
      "Epoch 22/50\n",
      "60000/60000 [==============================] - 4s 70us/step - loss: 0.0460 - acc: 0.9872 - val_loss: 0.0760 - val_acc: 0.9758\n",
      "Epoch 23/50\n",
      "60000/60000 [==============================] - 4s 70us/step - loss: 0.0431 - acc: 0.9885 - val_loss: 0.0753 - val_acc: 0.9770\n",
      "Epoch 24/50\n",
      "60000/60000 [==============================] - 4s 72us/step - loss: 0.0403 - acc: 0.9895 - val_loss: 0.0749 - val_acc: 0.9765\n",
      "Epoch 25/50\n",
      "60000/60000 [==============================] - 4s 72us/step - loss: 0.0375 - acc: 0.9899 - val_loss: 0.0713 - val_acc: 0.9788\n",
      "Epoch 26/50\n",
      "60000/60000 [==============================] - 4s 73us/step - loss: 0.0353 - acc: 0.9907 - val_loss: 0.0717 - val_acc: 0.9779\n",
      "Epoch 27/50\n",
      "60000/60000 [==============================] - 4s 74us/step - loss: 0.0333 - acc: 0.9913 - val_loss: 0.0700 - val_acc: 0.9793\n",
      "Epoch 28/50\n",
      "60000/60000 [==============================] - 4s 73us/step - loss: 0.0314 - acc: 0.9920 - val_loss: 0.0694 - val_acc: 0.9784\n",
      "Epoch 29/50\n",
      "60000/60000 [==============================] - 4s 70us/step - loss: 0.0295 - acc: 0.9928 - val_loss: 0.0687 - val_acc: 0.9795\n",
      "Epoch 30/50\n",
      "60000/60000 [==============================] - 4s 73us/step - loss: 0.0275 - acc: 0.9933 - val_loss: 0.0709 - val_acc: 0.9783\n",
      "Epoch 31/50\n",
      "60000/60000 [==============================] - 4s 74us/step - loss: 0.0261 - acc: 0.9936 - val_loss: 0.0669 - val_acc: 0.9801\n",
      "Epoch 32/50\n",
      "60000/60000 [==============================] - 4s 73us/step - loss: 0.0242 - acc: 0.9946 - val_loss: 0.0691 - val_acc: 0.9797\n",
      "Epoch 33/50\n",
      "60000/60000 [==============================] - 4s 72us/step - loss: 0.0229 - acc: 0.9948 - val_loss: 0.0672 - val_acc: 0.9806\n",
      "Epoch 34/50\n",
      "60000/60000 [==============================] - 4s 74us/step - loss: 0.0214 - acc: 0.9956 - val_loss: 0.0677 - val_acc: 0.9803\n",
      "Epoch 35/50\n",
      "60000/60000 [==============================] - 4s 74us/step - loss: 0.0201 - acc: 0.9961 - val_loss: 0.0737 - val_acc: 0.9773\n",
      "Epoch 36/50\n",
      "60000/60000 [==============================] - 4s 74us/step - loss: 0.0190 - acc: 0.9965 - val_loss: 0.0672 - val_acc: 0.9793\n",
      "Epoch 37/50\n",
      "60000/60000 [==============================] - 5s 78us/step - loss: 0.0180 - acc: 0.9969 - val_loss: 0.0669 - val_acc: 0.9800\n",
      "Epoch 38/50\n",
      "60000/60000 [==============================] - 5s 79us/step - loss: 0.0168 - acc: 0.9970 - val_loss: 0.0671 - val_acc: 0.9804\n",
      "Epoch 39/50\n",
      "60000/60000 [==============================] - 4s 71us/step - loss: 0.0159 - acc: 0.9974 - val_loss: 0.0690 - val_acc: 0.9804\n",
      "Epoch 40/50\n",
      "60000/60000 [==============================] - 4s 74us/step - loss: 0.0149 - acc: 0.9979 - val_loss: 0.0687 - val_acc: 0.9805\n",
      "Epoch 41/50\n",
      "60000/60000 [==============================] - 4s 74us/step - loss: 0.0141 - acc: 0.9979 - val_loss: 0.0685 - val_acc: 0.9792\n",
      "Epoch 42/50\n",
      "60000/60000 [==============================] - 4s 70us/step - loss: 0.0133 - acc: 0.9981 - val_loss: 0.0673 - val_acc: 0.9806\n",
      "Epoch 43/50\n",
      "60000/60000 [==============================] - 4s 72us/step - loss: 0.0126 - acc: 0.9984 - val_loss: 0.0691 - val_acc: 0.9798\n",
      "Epoch 44/50\n",
      "60000/60000 [==============================] - 4s 73us/step - loss: 0.0119 - acc: 0.9984 - val_loss: 0.0683 - val_acc: 0.9797\n",
      "Epoch 45/50\n",
      "60000/60000 [==============================] - 5s 78us/step - loss: 0.0113 - acc: 0.9986 - val_loss: 0.0673 - val_acc: 0.9805\n",
      "Epoch 46/50\n",
      "60000/60000 [==============================] - 4s 73us/step - loss: 0.0107 - acc: 0.9987 - val_loss: 0.0689 - val_acc: 0.9804\n",
      "Epoch 47/50\n",
      "60000/60000 [==============================] - 4s 73us/step - loss: 0.0101 - acc: 0.9988 - val_loss: 0.0684 - val_acc: 0.9805\n",
      "Epoch 48/50\n",
      "60000/60000 [==============================] - 4s 69us/step - loss: 0.0096 - acc: 0.9991 - val_loss: 0.0672 - val_acc: 0.9820\n",
      "Epoch 49/50\n",
      "60000/60000 [==============================] - 4s 71us/step - loss: 0.0091 - acc: 0.9991 - val_loss: 0.0682 - val_acc: 0.9814\n",
      "Epoch 50/50\n",
      "60000/60000 [==============================] - 4s 72us/step - loss: 0.0086 - acc: 0.9992 - val_loss: 0.0694 - val_acc: 0.9801\n"
     ]
    }
   ],
   "source": [
    "hist = model.fit(scaled_x_train, y_train_1hot, epochs=50, batch_size=64, validation_data=(scaled_x_test, y_test_1hot))"
   ]
  },
  {
   "cell_type": "markdown",
   "metadata": {
    "ExecuteTime": {
     "end_time": "2020-03-08T21:12:51.161531Z",
     "start_time": "2020-03-08T21:12:51.158141Z"
    }
   },
   "source": [
    "## Model behaviour. Dense network"
   ]
  },
  {
   "cell_type": "code",
   "execution_count": 17,
   "metadata": {
    "ExecuteTime": {
     "end_time": "2020-03-09T19:49:28.054762Z",
     "start_time": "2020-03-09T19:49:27.867866Z"
    }
   },
   "outputs": [
    {
     "data": {
      "image/png": "[encoded data removed]",
      "text/plain": [
       "<matplotlib.figure.Figure at 0x1a482e1f98>"
      ]
     },
     "metadata": {},
     "output_type": "display_data"
    }
   ],
   "source": [
    "plot_loss_function(hist)"
   ]
  },
  {
   "cell_type": "code",
   "execution_count": 18,
   "metadata": {
    "ExecuteTime": {
     "end_time": "2020-03-09T19:49:28.234894Z",
     "start_time": "2020-03-09T19:49:28.082593Z"
    },
    "scrolled": false
   },
   "outputs": [
    {
     "data": {
      "image/png": "[encoded data removed]",
      "text/plain": [
       "<matplotlib.figure.Figure at 0x1a47ac4eb8>"
      ]
     },
     "metadata": {},
     "output_type": "display_data"
    }
   ],
   "source": [
    "plot_accuracy_function(hist)"
   ]
  },
  {
   "cell_type": "code",
   "execution_count": 19,
   "metadata": {
    "ExecuteTime": {
     "end_time": "2020-03-09T19:49:28.265916Z",
     "start_time": "2020-03-09T19:49:28.260911Z"
    }
   },
   "outputs": [
    {
     "name": "stdout",
     "output_type": "stream",
     "text": [
      "Accuracy train: 0.99918336\n",
      "Accuracy validation: 0.9800999760627747\n"
     ]
    }
   ],
   "source": [
    "print(\"Accuracy train: \" + str(hist.history['acc'][-1]))\n",
    "print(\"Accuracy validation: \" + str(hist.history['val_acc'][-1]))"
   ]
  },
  {
   "cell_type": "code",
   "execution_count": 20,
   "metadata": {
    "ExecuteTime": {
     "end_time": "2020-03-09T19:49:30.410136Z",
     "start_time": "2020-03-09T19:49:28.308179Z"
    }
   },
   "outputs": [
    {
     "name": "stdout",
     "output_type": "stream",
     "text": [
      "Confusion matrix. Training data\n",
      "[[5922    0    0    0    0    0    1    0    0    0]\n",
      " [   0 6737    2    0    1    1    0    6    2    1]\n",
      " [   0    0 5955    0    0    0    0    0    0    0]\n",
      " [   0    0    0 6129    0    0    0    0    0    0]\n",
      " [   0    3    0    0 5839    0    0    1    0    2]\n",
      " [   0    0    0    0    0 5420    1    0    0    0]\n",
      " [   0    0    0    0    0    0 5916    0    1    0]\n",
      " [   0    1    1    0    1    0    0 6258    0    1]\n",
      " [   1    1    0    1    0    0    0    0 5848    2]\n",
      " [   0    0    0    1    1    0    0    0    0 5943]]\n",
      "\n",
      "Confusion matrix. Testing data\n",
      "[[ 970    0    3    1    1    2    4    1    4    2]\n",
      " [   1 1124    3    0    0    0    2    4    0    2]\n",
      " [   1    2 1005    5    2    0    0    7    3    0]\n",
      " [   0    1    5  992    1    9    1    3   10    4]\n",
      " [   1    0    3    0  968    1    4    0    2   10]\n",
      " [   2    1    0    3    0  871    3    0    2    3]\n",
      " [   2    4    3    0    4    4  943    1    3    1]\n",
      " [   1    1    2    3    1    1    0 1002    2    3]\n",
      " [   1    2    8    4    1    2    1    5  946    4]\n",
      " [   1    0    0    2    4    2    0    5    2  980]]\n"
     ]
    }
   ],
   "source": [
    "print(\"Confusion matrix. Training data\")\n",
    "y_train_predictions = argmax(model.predict(scaled_x_train), 1)\n",
    "print(confusion_matrix(y_train_predictions, y_train))\n",
    "\n",
    "print(\"\\nConfusion matrix. Testing data\")\n",
    "y_test_predictions = argmax(model.predict(scaled_x_test), 1)\n",
    "print(confusion_matrix(y_test_predictions, y_test))"
   ]
  },
  {
   "cell_type": "markdown",
   "metadata": {
    "ExecuteTime": {
     "end_time": "2020-03-08T22:00:49.589780Z",
     "start_time": "2020-03-08T22:00:49.587062Z"
    }
   },
   "source": [
    "# Conclusion"
   ]
  },
  {
   "cell_type": "markdown",
   "metadata": {},
   "source": [
    "Compare the accuracy you achieve vs. the accuracy achieved in standard mnist example"
   ]
  },
  {
   "cell_type": "markdown",
   "metadata": {},
   "source": [
    "Here you are accuracies of NNs achieved on MNIST and Fashion MNIST datasets.  <br />\n",
    "MNIST classification (check session04)<br />\n",
    "* Dense network <br />\n",
    "Accuracy train: 0.999 <br />\n",
    "Accuracy validation: 0.975 \n",
    "\n",
    "Fashion-mnist classification <br />\n",
    "* 1-layer network: <br />\n",
    "Accuracy train: 0.926 <br />\n",
    "Accuracy validation: 0.923 <br />\n",
    "* Dense network: <br />\n",
    "Accuracy train: 0.999 <br />\n",
    "Accuracy validation: 0.979\n",
    "\n",
    "Multilayer dense NNs exceeded 97% accuracy for both datasets."
   ]
  }
 ],
 "metadata": {
  "hide_input": false,
  "kernelspec": {
   "display_name": "Python 3",
   "language": "python",
   "name": "python3"
  },
  "language_info": {
   "codemirror_mode": {
    "name": "ipython",
    "version": 3
   },
   "file_extension": ".py",
   "mimetype": "text/x-python",
   "name": "python",
   "nbconvert_exporter": "python",
   "pygments_lexer": "ipython3",
   "version": "3.7.3"
  },
  "toc": {
   "base_numbering": 1,
   "nav_menu": {},
   "number_sections": true,
   "sideBar": true,
   "skip_h1_title": false,
   "title_cell": "Table of Contents",
   "title_sidebar": "Contents",
   "toc_cell": false,
   "toc_position": {},
   "toc_section_display": true,
   "toc_window_display": false
  },
  "varInspector": {
   "cols": {
    "lenName": 16,
    "lenType": 16,
    "lenVar": 40
   },
   "kernels_config": {
    "python": {
     "delete_cmd_postfix": "",
     "delete_cmd_prefix": "del ",
     "library": "var_list.py",
     "varRefreshCmd": "print(var_dic_list())"
    },
    "r": {
     "delete_cmd_postfix": ") ",
     "delete_cmd_prefix": "rm(",
     "library": "var_list.r",
     "varRefreshCmd": "cat(var_dic_list()) "
    }
   },
   "types_to_exclude": [
    "module",
    "function",
    "builtin_function_or_method",
    "instance",
    "_Feature"
   ],
   "window_display": false
  }
 },
 "nbformat": 4,
 "nbformat_minor": 2
}
