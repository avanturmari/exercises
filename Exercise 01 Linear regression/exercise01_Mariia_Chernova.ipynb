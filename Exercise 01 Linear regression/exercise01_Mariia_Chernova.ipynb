{
 "cells": [
  {
   "cell_type": "markdown",
   "metadata": {},
   "source": [
    "# Excercise 1: Linear regression\n",
    "\n",
    "Please write here your name and student id: Mariia Chernova 1908135"
   ]
  },
  {
   "cell_type": "markdown",
   "metadata": {},
   "source": [
    "File bb.csv contains synthetic data about basketball player statistics. Columns Height, Years, Draftposition \n",
    "should be used to predict the value in column Pointsaverage. To do this the data should be read in, cleaned and scaled. Then a linear model that fits with the data is created. Last step is to predict the points average for Lauri Markkanen during his first years with Chicago Bulls. See https://en.wikipedia.org/wiki/Lauri_Markkanen for more information on Lauri."
   ]
  },
  {
   "cell_type": "code",
   "execution_count": 3,
   "metadata": {},
   "outputs": [],
   "source": [
    "import numpy as np\n",
    "import matplotlib.pyplot as plt\n",
    "from sklearn import preprocessing\n",
    "from sklearn import linear_model\n",
    "from sklearn.model_selection import train_test_split\n",
    "from numpy import genfromtxt"
   ]
  },
  {
   "cell_type": "markdown",
   "metadata": {},
   "source": [
    "Read in the file \"bb.csv\" using numpy genfromtext() function."
   ]
  },
  {
   "cell_type": "code",
   "execution_count": 58,
   "metadata": {
    "deletable": false,
    "nbgrader": {
     "cell_type": "code",
     "checksum": "d661f07ed817897bbb28cfec523f1739",
     "grade": false,
     "grade_id": "cell-971cf73c4f569346",
     "locked": false,
     "schema_version": 3,
     "solution": true,
     "task": false
    }
   },
   "outputs": [],
   "source": [
    "bb_data = genfromtxt('bb.csv', delimiter=',', skip_header=1)\n",
    "#raise NotImplementedError()"
   ]
  },
  {
   "cell_type": "code",
   "execution_count": 12,
   "metadata": {
    "deletable": false,
    "editable": false,
    "nbgrader": {
     "cell_type": "code",
     "checksum": "8514395261813a3762ec5eb188ecf2d1",
     "grade": true,
     "grade_id": "cell-4585178bcf80af78",
     "locked": true,
     "points": 2,
     "schema_version": 3,
     "solution": false,
     "task": false
    }
   },
   "outputs": [],
   "source": [
    "# Checking that data dimensions are correct.\n",
    "\n",
    "assert(bb_data.shape[0] == 30)\n",
    "assert(bb_data.shape[1] == 4)"
   ]
  },
  {
   "cell_type": "markdown",
   "metadata": {},
   "source": [
    "Check that data makes sense by seeing if all values are non-negative etc. Remove any illegal (possibly corrupted) rows of data with numpy.delete(), for example. Assign cleaned data to variable bb_data_cleaned."
   ]
  },
  {
   "cell_type": "code",
   "execution_count": 101,
   "metadata": {
    "deletable": false,
    "nbgrader": {
     "cell_type": "code",
     "checksum": "b9f61b5b8cb323de15fe6103b8d503cf",
     "grade": false,
     "grade_id": "cell-c6857dbec1a777d0",
     "locked": false,
     "schema_version": 3,
     "solution": true,
     "task": false
    }
   },
   "outputs": [],
   "source": [
    "keep_row = (bb_data > 0).sum(1) == 4\n",
    "bb_data_cleaned = bb_data[keep_row,]\n",
    "# raise NotImplementedError()"
   ]
  },
  {
   "cell_type": "code",
   "execution_count": 102,
   "metadata": {
    "deletable": false,
    "editable": false,
    "nbgrader": {
     "cell_type": "code",
     "checksum": "4b82cad3c2cbc926ecd6e11744e76d4c",
     "grade": true,
     "grade_id": "cell-561342f9d919ec70",
     "locked": true,
     "points": 2,
     "schema_version": 3,
     "solution": false,
     "task": false
    }
   },
   "outputs": [],
   "source": [
    "assert(bb_data_cleaned.shape[0] == 28)\n",
    "assert(bb_data_cleaned.shape[1] == 4)\n",
    "assert(np.sum(bb_data_cleaned > 0) == 112)"
   ]
  },
  {
   "cell_type": "markdown",
   "metadata": {},
   "source": [
    "Assign to variable x the features, to y the values we want to predict."
   ]
  },
  {
   "cell_type": "code",
   "execution_count": 109,
   "metadata": {
    "deletable": false,
    "nbgrader": {
     "cell_type": "code",
     "checksum": "a8e534ec459606d8cf49ab231109f23c",
     "grade": false,
     "grade_id": "cell-b3a0889592837bd4",
     "locked": false,
     "schema_version": 3,
     "solution": true,
     "task": false
    }
   },
   "outputs": [],
   "source": [
    "x = bb_data_cleaned[:,:3]\n",
    "y = bb_data_cleaned[:,3]\n",
    "#raise NotImplementedError()"
   ]
  },
  {
   "cell_type": "code",
   "execution_count": 110,
   "metadata": {
    "deletable": false,
    "editable": false,
    "nbgrader": {
     "cell_type": "code",
     "checksum": "43b67d8ee0e67ecb36bf90db21e8f9e6",
     "grade": true,
     "grade_id": "cell-48e90af1530814b8",
     "locked": true,
     "points": 2,
     "schema_version": 3,
     "solution": false,
     "task": false
    }
   },
   "outputs": [],
   "source": [
    "assert(x.shape[0] == 28)\n",
    "assert(x.shape[1] == 3)\n",
    "assert(y.shape[0] == 28)"
   ]
  },
  {
   "cell_type": "markdown",
   "metadata": {},
   "source": [
    "Scale x data with sklearn StandardScaler."
   ]
  },
  {
   "cell_type": "code",
   "execution_count": 116,
   "metadata": {},
   "outputs": [
    {
     "data": {
      "text/plain": [
       "array([[ 0.61085747, -1.37198868,  0.90657148],\n",
       "       [-0.53578001, -0.30488637,  0.22359386],\n",
       "       [-1.01354563, -0.0381108 , -1.14236137],\n",
       "       [ 0.51530434, -1.1052131 , -0.11789495],\n",
       "       [ 0.03753873,  0.49544036, -0.57321336],\n",
       "       [ 0.99306996, -0.83843753, -0.23172455],\n",
       "       [ 1.5663887 , -1.37198868,  1.5895491 ],\n",
       "       [-2.25573623,  1.29576709, -1.25619098],\n",
       "       [-0.63133313, -1.1052131 , -1.25619098],\n",
       "       [ 0.3241981 ,  1.02899151,  0.10976426],\n",
       "       [ 0.51530434, -0.57166195,  1.36188989],\n",
       "       [ 1.37528245, -0.30488637, -1.37002058],\n",
       "       [ 1.27972933,  0.76221593,  1.7033787 ],\n",
       "       [-0.53578001,  1.29576709, -1.14236137],\n",
       "       [-0.24912064,  2.3628694 , -0.57321336],\n",
       "       [ 0.13309185, -1.37198868,  0.33742347],\n",
       "       [-1.58686437, -0.0381108 , -0.23172455],\n",
       "       [-0.72688626, -0.57166195,  0.10976426],\n",
       "       [-1.20465187,  0.49544036, -0.23172455],\n",
       "       [-0.72688626, -0.83843753, -1.37002058],\n",
       "       [-1.20465187,  0.76221593,  1.93103791],\n",
       "       [ 0.51530434,  1.56254266,  1.02040108],\n",
       "       [ 0.3241981 , -0.57166195, -0.45938375],\n",
       "       [-0.63133313,  0.22866478,  0.67891227],\n",
       "       [ 0.99306996,  1.02899151,  0.90657148],\n",
       "       [ 1.27972933, -1.1052131 ,  1.02040108],\n",
       "       [ 1.5663887 , -0.57166195, -0.68704296],\n",
       "       [-0.72688626,  0.76221593, -1.25619098]])"
      ]
     },
     "execution_count": 116,
     "metadata": {},
     "output_type": "execute_result"
    }
   ],
   "source": [
    "scaler = preprocessing.StandardScaler().fit(x)\n",
    "scaled_x = scaler.transform(x)\n",
    "scaled_x"
   ]
  },
  {
   "cell_type": "code",
   "execution_count": 124,
   "metadata": {
    "deletable": false,
    "nbgrader": {
     "cell_type": "code",
     "checksum": "7be79bbddce0a5a9e1d40e30deadff2f",
     "grade": false,
     "grade_id": "cell-a9e291c9857349ef",
     "locked": false,
     "schema_version": 3,
     "solution": true,
     "task": false
    }
   },
   "outputs": [],
   "source": [
    "scaler = preprocessing.StandardScaler().fit(x)\n",
    "scaled_x = scaler.transform(x)\n",
    "# raise NotImplementedError()"
   ]
  },
  {
   "cell_type": "code",
   "execution_count": 125,
   "metadata": {
    "deletable": false,
    "editable": false,
    "nbgrader": {
     "cell_type": "code",
     "checksum": "f85c735a131af87937999fb48c22e4b7",
     "grade": true,
     "grade_id": "cell-4c079021fc92b5dc",
     "locked": true,
     "points": 3,
     "schema_version": 3,
     "solution": false,
     "task": false
    }
   },
   "outputs": [],
   "source": [
    "eps = 0.0001\n",
    "assert(np.sum(scaled_x.mean(axis=0)) < eps)\n",
    "assert(np.sum(scaled_x.std(axis=0)) < 3 + eps)"
   ]
  },
  {
   "cell_type": "markdown",
   "metadata": {},
   "source": [
    "Split the data into training (x_train, y_train) and test (x_test, y_test) sets with the test set size 30% of all data."
   ]
  },
  {
   "cell_type": "code",
   "execution_count": 126,
   "metadata": {
    "deletable": false,
    "nbgrader": {
     "cell_type": "code",
     "checksum": "0947b54858fe4c11866d8dfe987ab36f",
     "grade": false,
     "grade_id": "cell-29ace0674e950e2b",
     "locked": false,
     "schema_version": 3,
     "solution": true,
     "task": false
    }
   },
   "outputs": [],
   "source": [
    "np.random.seed(42) # Please do not remove\n",
    "x_train, x_test, y_train, y_test = train_test_split(scaled_x, y, test_size=0.3)\n",
    "# raise NotImplementedError()"
   ]
  },
  {
   "cell_type": "code",
   "execution_count": 127,
   "metadata": {
    "deletable": false,
    "editable": false,
    "nbgrader": {
     "cell_type": "code",
     "checksum": "94728acc29f25a1fc425c48781157140",
     "grade": true,
     "grade_id": "cell-3a21470d6ac6382d",
     "locked": true,
     "points": 3,
     "schema_version": 3,
     "solution": false,
     "task": false
    }
   },
   "outputs": [],
   "source": [
    "assert(x_train.shape[0] == 19 and x_test.shape[0] == 9)\n",
    "assert(y_train.shape[0] == 19 and y_test.shape[0] == 9)\n",
    "assert(x_train.shape[1] == 3 and x_test.shape[1] == 3)"
   ]
  },
  {
   "cell_type": "markdown",
   "metadata": {},
   "source": [
    "Create a linear model.\n",
    "\n",
    "Assign the R^2 score of the model computed with test set to variable r2test."
   ]
  },
  {
   "cell_type": "code",
   "execution_count": 132,
   "metadata": {
    "deletable": false,
    "nbgrader": {
     "cell_type": "code",
     "checksum": "f6bada4d66a3bcd447ac3a2d2644a41c",
     "grade": false,
     "grade_id": "cell-6712f2422a398404",
     "locked": false,
     "schema_version": 3,
     "solution": true,
     "task": false
    }
   },
   "outputs": [],
   "source": [
    "model = linear_model.LinearRegression()\n",
    "model.fit(x_train, y_train)\n",
    "r2test = model.score(x_test, y_test)\n",
    "# raise NotImplementedError()"
   ]
  },
  {
   "cell_type": "code",
   "execution_count": 133,
   "metadata": {
    "deletable": false,
    "editable": false,
    "nbgrader": {
     "cell_type": "code",
     "checksum": "01d513402371d1ab146f63f9cf6432e1",
     "grade": true,
     "grade_id": "cell-70fa596fc4ffa881",
     "locked": true,
     "points": 4,
     "schema_version": 3,
     "solution": false,
     "task": false
    }
   },
   "outputs": [],
   "source": [
    "assert(r2test - 0.8161738892 < eps)"
   ]
  },
  {
   "cell_type": "markdown",
   "metadata": {},
   "source": [
    "Predict Lauri Markkanen's point average for seasons 17-18 and 18-19 using your model. Assign your predictions to variables lauri1718 and lauri1819."
   ]
  },
  {
   "cell_type": "code",
   "execution_count": 158,
   "metadata": {
    "deletable": false,
    "nbgrader": {
     "cell_type": "code",
     "checksum": "b55214376edc190f9f5c09efd62a1ede",
     "grade": false,
     "grade_id": "cell-b0b50676b5ac76e7",
     "locked": false,
     "schema_version": 3,
     "solution": true,
     "task": false
    }
   },
   "outputs": [
    {
     "data": {
      "text/plain": [
       "array([[213,   0,   7],\n",
       "       [213,   1,   7]])"
      ]
     },
     "execution_count": 158,
     "metadata": {},
     "output_type": "execute_result"
    }
   ],
   "source": [
    "lauri = np.array([[213,0,7],[213,1,7]])\n",
    "lauri\n",
    "# raise NotImplementedError()"
   ]
  },
  {
   "cell_type": "code",
   "execution_count": 159,
   "metadata": {},
   "outputs": [
    {
     "data": {
      "text/plain": [
       "array([[ 0.70641059, -1.63876426, -0.68704296],\n",
       "       [ 0.70641059, -1.37198868, -0.68704296]])"
      ]
     },
     "execution_count": 159,
     "metadata": {},
     "output_type": "execute_result"
    }
   ],
   "source": [
    "scaled_lauri= scaler.transform(lauri)\n",
    "scaled_lauri"
   ]
  },
  {
   "cell_type": "code",
   "execution_count": 162,
   "metadata": {},
   "outputs": [
    {
     "name": "stdout",
     "output_type": "stream",
     "text": [
      "[19.78996207 20.76399068]\n"
     ]
    }
   ],
   "source": [
    "predictions_lauri= model.predict(scaled_lauri)\n",
    "print(predictions_lauri)"
   ]
  },
  {
   "cell_type": "code",
   "execution_count": 165,
   "metadata": {},
   "outputs": [
    {
     "data": {
      "text/plain": [
       "20.763990681161317"
      ]
     },
     "execution_count": 165,
     "metadata": {},
     "output_type": "execute_result"
    }
   ],
   "source": [
    "lauri1718=predictions_lauri[0]\n",
    "lauri1819=predictions_lauri[1]"
   ]
  },
  {
   "cell_type": "code",
   "execution_count": 166,
   "metadata": {
    "deletable": false,
    "editable": false,
    "nbgrader": {
     "cell_type": "code",
     "checksum": "98ece1bd9a2550c91f210d791e48279d",
     "grade": true,
     "grade_id": "cell-882daf9267fe74cc",
     "locked": true,
     "points": 4,
     "schema_version": 3,
     "solution": false,
     "task": false
    }
   },
   "outputs": [],
   "source": [
    "assert(lauri1718 - 19.78996201 < eps)\n",
    "assert(lauri1819 - 20.76399068 < eps)"
   ]
  }
 ],
 "metadata": {
  "kernelspec": {
   "display_name": "Python 3",
   "language": "python",
   "name": "python3"
  },
  "language_info": {
   "codemirror_mode": {
    "name": "ipython",
    "version": 3
   },
   "file_extension": ".py",
   "mimetype": "text/x-python",
   "name": "python",
   "nbconvert_exporter": "python",
   "pygments_lexer": "ipython3",
   "version": "3.7.3"
  }
 },
 "nbformat": 4,
 "nbformat_minor": 2
}
